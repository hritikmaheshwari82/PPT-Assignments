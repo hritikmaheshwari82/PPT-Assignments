{
  "nbformat": 4,
  "nbformat_minor": 0,
  "metadata": {
    "colab": {
      "provenance": []
    },
    "kernelspec": {
      "name": "python3",
      "display_name": "Python 3"
    },
    "language_info": {
      "name": "python"
    }
  },
  "cells": [
    {
      "cell_type": "markdown",
      "source": [
        "# **ASSIGNMENT 7**"
      ],
      "metadata": {
        "id": "LVnCc4_11asb"
      }
    },
    {
      "cell_type": "markdown",
      "source": [
        "**Q1**"
      ],
      "metadata": {
        "id": "9quwmnIH1e7C"
      }
    },
    {
      "cell_type": "code",
      "source": [
        "class Solution:\n",
        "    def isIsomorphic(self, s: str, t: str) -> bool:\n",
        "        if len(s) != len(t):\n",
        "            return False\n",
        "\n",
        "        mapping = {}\n",
        "\n",
        "        for i in range(len(s)):\n",
        "            if s[i] in mapping:\n",
        "                if mapping[s[i]] != t[i]:\n",
        "                    return False\n",
        "            else:\n",
        "                if t[i] in mapping.values():\n",
        "                    return False\n",
        "                mapping[s[i]] = t[i]\n",
        "\n",
        "        return True\n",
        "\n",
        "s = \"egg\"\n",
        "t = \"add\"\n",
        "\n",
        "solution = Solution()\n",
        "is_isomorphic = solution.isIsomorphic(s, t)\n",
        "print(is_isomorphic)\n",
        "\n"
      ],
      "metadata": {
        "colab": {
          "base_uri": "https://localhost:8080/"
        },
        "id": "8ZTILRD71jpK",
        "outputId": "4224a7db-ea25-4057-87de-6f66b37405de"
      },
      "execution_count": 3,
      "outputs": [
        {
          "output_type": "stream",
          "name": "stdout",
          "text": [
            "True\n"
          ]
        }
      ]
    },
    {
      "cell_type": "markdown",
      "source": [
        "**Q2**"
      ],
      "metadata": {
        "id": "BaQYEoYf3Coh"
      }
    },
    {
      "cell_type": "code",
      "source": [
        "class Solution:\n",
        "    def isStrobogrammatic(self, num: str) -> bool:\n",
        "        mapping = {\n",
        "            '0': '0',\n",
        "            '1': '1',\n",
        "            '6': '9',\n",
        "            '8': '8',\n",
        "            '9': '6'\n",
        "        }\n",
        "\n",
        "        left = 0\n",
        "        right = len(num) - 1\n",
        "\n",
        "        while left <= right:\n",
        "            if num[left] not in mapping or num[right] not in mapping:\n",
        "                return False\n",
        "\n",
        "            if mapping[num[left]] != num[right]:\n",
        "                return False\n",
        "\n",
        "            left += 1\n",
        "            right -= 1\n",
        "\n",
        "        return True\n",
        "\n",
        "num = \"69\"\n",
        "\n",
        "solution = Solution()\n",
        "is_strobogrammatic = solution.isStrobogrammatic(num)\n",
        "print(is_strobogrammatic)\n",
        "\n"
      ],
      "metadata": {
        "colab": {
          "base_uri": "https://localhost:8080/"
        },
        "id": "eI3rADtI3Fh_",
        "outputId": "5e6b2a1c-2a2d-4212-e6e9-1179aa4f2418"
      },
      "execution_count": 5,
      "outputs": [
        {
          "output_type": "stream",
          "name": "stdout",
          "text": [
            "True\n"
          ]
        }
      ]
    },
    {
      "cell_type": "markdown",
      "source": [
        "**Q3**"
      ],
      "metadata": {
        "id": "zS9pGD8K3fT6"
      }
    },
    {
      "cell_type": "code",
      "source": [
        "class Solution:\n",
        "    def addStrings(self, num1: str, num2: str) -> str:\n",
        "        result = \"\"\n",
        "        carry = 0\n",
        "        i = len(num1) - 1\n",
        "        j = len(num2) - 1\n",
        "\n",
        "        while i >= 0 or j >= 0 or carry:\n",
        "            digit1 = int(num1[i]) if i >= 0 else 0\n",
        "            digit2 = int(num2[j]) if j >= 0 else 0\n",
        "\n",
        "            total = digit1 + digit2 + carry\n",
        "\n",
        "            carry = total // 10\n",
        "            result = str(total % 10) + result\n",
        "\n",
        "            i -= 1\n",
        "            j -= 1\n",
        "\n",
        "        return result\n",
        "\n",
        "num1 = \"11\"\n",
        "num2 = \"123\"\n",
        "\n",
        "solution = Solution()\n",
        "sum_str = solution.addStrings(num1, num2)\n",
        "print(sum_str)\n",
        "\n"
      ],
      "metadata": {
        "colab": {
          "base_uri": "https://localhost:8080/"
        },
        "id": "Lsr440ma3jGp",
        "outputId": "cc769c63-55fa-4c05-c9cd-8ae52d2edb4b"
      },
      "execution_count": 1,
      "outputs": [
        {
          "output_type": "stream",
          "name": "stdout",
          "text": [
            "134\n"
          ]
        }
      ]
    },
    {
      "cell_type": "markdown",
      "source": [
        "**Q4**"
      ],
      "metadata": {
        "id": "Xe2xPrtvw-ac"
      }
    },
    {
      "cell_type": "code",
      "source": [
        "class Solution:\n",
        "    def reverseWords(self, s: str) -> str:\n",
        "        words = s.split()\n",
        "        reversed_words = [word[::-1] for word in words]\n",
        "\n",
        "        return ' '.join(reversed_words)\n",
        "\n",
        "s = \"Let's take LeetCode contest\"\n",
        "\n",
        "solution = Solution()\n",
        "reversed_sentence = solution.reverseWords(s)\n",
        "print(reversed_sentence)\n",
        "\n"
      ],
      "metadata": {
        "colab": {
          "base_uri": "https://localhost:8080/"
        },
        "id": "yCFdOW9ZxBbt",
        "outputId": "287e7e14-1e02-4285-c3e1-69368fb68f7e"
      },
      "execution_count": 2,
      "outputs": [
        {
          "output_type": "stream",
          "name": "stdout",
          "text": [
            "s'teL ekat edoCteeL tsetnoc\n"
          ]
        }
      ]
    },
    {
      "cell_type": "markdown",
      "source": [
        "**Q5**"
      ],
      "metadata": {
        "id": "voka9L7Uxpqu"
      }
    },
    {
      "cell_type": "code",
      "source": [
        "class Solution:\n",
        "    def reverseStr(self, s: str, k: int) -> str:\n",
        "        result = \"\"\n",
        "\n",
        "        for i in range(0, len(s), 2*k):\n",
        "\n",
        "            if i + k <= len(s):\n",
        "                result += s[i:i+k][::-1]\n",
        "            else:\n",
        "                result += s[i:len(s)]\n",
        "\n",
        "            result += s[i+k:i+2*k]\n",
        "\n",
        "        return result\n",
        "s = \"abcdefg\"\n",
        "k = 2\n",
        "\n",
        "solution = Solution()\n",
        "reversed_str = solution.reverseStr(s, k)\n",
        "print(reversed_str)\n"
      ],
      "metadata": {
        "colab": {
          "base_uri": "https://localhost:8080/"
        },
        "id": "ToA6cNGZyEb6",
        "outputId": "c4c8bbe6-b8d3-442c-dcda-93debf6ad55e"
      },
      "execution_count": 8,
      "outputs": [
        {
          "output_type": "stream",
          "name": "stdout",
          "text": [
            "bacdfeg\n"
          ]
        }
      ]
    },
    {
      "cell_type": "markdown",
      "source": [
        "**Q6**"
      ],
      "metadata": {
        "id": "2Gw_gB63yddd"
      }
    },
    {
      "cell_type": "code",
      "source": [
        "class Solution:\n",
        "    def rotateString(self, s: str, goal: str) -> bool:\n",
        "        if len(s) != len(goal):\n",
        "            return False\n",
        "\n",
        "        s += s\n",
        "\n",
        "        if goal in s:\n",
        "            return True\n",
        "\n",
        "        return False\n",
        "\n",
        "s = \"abcde\"\n",
        "goal = \"cdeab\"\n",
        "\n",
        "solution = Solution()\n",
        "can_rotate = solution.rotateString(s, goal)\n",
        "print(can_rotate)  # Output: True\n",
        "\n"
      ],
      "metadata": {
        "colab": {
          "base_uri": "https://localhost:8080/"
        },
        "id": "OyRR-NZmyfVS",
        "outputId": "e790cfa1-26bb-4189-d87c-8f5b743da6f1"
      },
      "execution_count": 9,
      "outputs": [
        {
          "output_type": "stream",
          "name": "stdout",
          "text": [
            "True\n"
          ]
        }
      ]
    },
    {
      "cell_type": "markdown",
      "source": [
        "**Q7**"
      ],
      "metadata": {
        "id": "5MmKMOL4y5an"
      }
    },
    {
      "cell_type": "code",
      "source": [
        "class Solution:\n",
        "    def backspaceCompare(self, s: str, t: str) -> bool:\n",
        "        def process_string(string):\n",
        "            stack = []\n",
        "            for char in string:\n",
        "                if char != '#':\n",
        "                    stack.append(char)\n",
        "                elif stack:\n",
        "                    stack.pop()\n",
        "            return ''.join(stack)\n",
        "\n",
        "        return process_string(s) == process_string(t)\n",
        "s = \"ab#c\"\n",
        "t = \"ad#c\"\n",
        "\n",
        "solution = Solution()\n",
        "are_equal = solution.backspaceCompare(s, t)\n",
        "print(are_equal)\n"
      ],
      "metadata": {
        "colab": {
          "base_uri": "https://localhost:8080/"
        },
        "id": "SCa4UA3Ay8Jz",
        "outputId": "27b1777e-6be8-458b-e56e-fad4712de83e"
      },
      "execution_count": 10,
      "outputs": [
        {
          "output_type": "stream",
          "name": "stdout",
          "text": [
            "True\n"
          ]
        }
      ]
    },
    {
      "cell_type": "markdown",
      "source": [
        "**Q8**"
      ],
      "metadata": {
        "id": "qBUklH0RzO4y"
      }
    },
    {
      "cell_type": "code",
      "source": [
        "from typing import List\n",
        "\n",
        "class Solution:\n",
        "    def checkStraightLine(self, coordinates: List[List[int]]) -> bool:\n",
        "        def slope(x1, y1, x2, y2):\n",
        "            return (y2 - y1) / (x2 - x1) if (x2 - x1) != 0 else float('inf')\n",
        "\n",
        "        x1, y1 = coordinates[0]\n",
        "        x2, y2 = coordinates[1]\n",
        "\n",
        "        base_slope = slope(x1, y1, x2, y2)\n",
        "\n",
        "        for i in range(2, len(coordinates)):\n",
        "            x3, y3 = coordinates[i]\n",
        "            current_slope = slope(x1, y1, x3, y3)\n",
        "            if current_slope != base_slope:\n",
        "                return False\n",
        "\n",
        "        return True\n",
        "\n",
        "coordinates = [[1, 2], [2, 3], [3, 4], [4, 5], [5, 6], [6, 7]]\n",
        "\n",
        "solution = Solution()\n",
        "is_straight_line = solution.checkStraightLine(coordinates)\n",
        "print(is_straight_line)\n",
        "\n"
      ],
      "metadata": {
        "colab": {
          "base_uri": "https://localhost:8080/"
        },
        "id": "m5TOCO290lUf",
        "outputId": "5803d362-13ac-4334-f3ac-e37135aec0b2"
      },
      "execution_count": 16,
      "outputs": [
        {
          "output_type": "stream",
          "name": "stdout",
          "text": [
            "True\n"
          ]
        }
      ]
    }
  ]
}