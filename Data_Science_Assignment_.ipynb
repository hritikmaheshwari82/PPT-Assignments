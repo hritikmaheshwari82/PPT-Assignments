{
  "nbformat": 4,
  "nbformat_minor": 0,
  "metadata": {
    "colab": {
      "provenance": []
    },
    "kernelspec": {
      "name": "python3",
      "display_name": "Python 3"
    },
    "language_info": {
      "name": "python"
    }
  },
  "cells": [
    {
      "cell_type": "markdown",
      "source": [
        "Q1"
      ],
      "metadata": {
        "id": "JNudL4WMUMZk"
      }
    },
    {
      "cell_type": "code",
      "source": [
        "def reverse_string(string):\n",
        "    reversed_string = ''\n",
        "    for i in range(len(string)-1, -1, -1):\n",
        "        reversed_string += string[i]\n",
        "    return reversed_string\n",
        "\n",
        "# Example usage\n",
        "input_string = input(\"Enter a string: \")\n",
        "reversed_string = reverse_string(input_string)\n",
        "print(\"Reversed string:\", reversed_string)\n"
      ],
      "metadata": {
        "colab": {
          "base_uri": "https://localhost:8080/"
        },
        "id": "ZnqsjFGQUPLA",
        "outputId": "560e4a81-bdde-49e7-cf88-6177d5b75d01"
      },
      "execution_count": null,
      "outputs": [
        {
          "output_type": "stream",
          "name": "stdout",
          "text": [
            "Enter a string: python\n",
            "Reversed string: nohtyp\n"
          ]
        }
      ]
    },
    {
      "cell_type": "markdown",
      "source": [
        "Q2"
      ],
      "metadata": {
        "id": "ZXp3ffwDU7Ac"
      }
    },
    {
      "cell_type": "code",
      "source": [
        "def is_palindrome(string):\n",
        "    reversed_string = string[::-1]\n",
        "    if string == reversed_string:\n",
        "        return True\n",
        "    return False\n",
        "\n",
        "# Example usage\n",
        "input_string = input(\"Enter a string: \")\n",
        "if is_palindrome(input_string):\n",
        "    print(\"The string is a palindrome.\")\n",
        "else:\n",
        "    print(\"The string is not a palindrome.\")\n"
      ],
      "metadata": {
        "colab": {
          "base_uri": "https://localhost:8080/"
        },
        "id": "LtkZinkqU87V",
        "outputId": "0af0a671-f6a7-4a92-c710-7cebb916baee"
      },
      "execution_count": null,
      "outputs": [
        {
          "output_type": "stream",
          "name": "stdout",
          "text": [
            "Enter a string: MOM\n",
            "The string is a palindrome.\n"
          ]
        }
      ]
    },
    {
      "cell_type": "markdown",
      "source": [
        "Q3"
      ],
      "metadata": {
        "id": "qoy7IYfqVJ9H"
      }
    },
    {
      "cell_type": "code",
      "source": [
        "def find_largest_element(lst):\n",
        "    if len(lst) == 0:\n",
        "        return None\n",
        "    largest = lst[0]\n",
        "    for num in lst:\n",
        "        if num > largest:\n",
        "            largest = num\n",
        "    return largest\n",
        "\n",
        "# Example usage\n",
        "numbers = [12, 45, 67, 23, 100, 9]\n",
        "largest_number = find_largest_element(numbers)\n",
        "print(\"Largest number:\", largest_number)\n"
      ],
      "metadata": {
        "colab": {
          "base_uri": "https://localhost:8080/"
        },
        "id": "sIs7X2mCVLtK",
        "outputId": "98f7252f-3164-4133-c462-f5b67c814ab7"
      },
      "execution_count": null,
      "outputs": [
        {
          "output_type": "stream",
          "name": "stdout",
          "text": [
            "Largest number: 100\n"
          ]
        }
      ]
    },
    {
      "cell_type": "markdown",
      "source": [
        "Q4"
      ],
      "metadata": {
        "id": "rSF3ZPEBVPFV"
      }
    },
    {
      "cell_type": "code",
      "source": [
        "def count_elements(lst):\n",
        "    count = {}\n",
        "    for item in lst:\n",
        "        if item in count:\n",
        "            count[item] += 1\n",
        "        else:\n",
        "            count[item] = 1\n",
        "    return count\n",
        "\n",
        "# Example usage\n",
        "numbers = [1, 2, 3, 4, 1, 2, 1, 3, 4, 4, 5]\n",
        "element_count = count_elements(numbers)\n",
        "print(\"Element count:\", element_count)\n"
      ],
      "metadata": {
        "colab": {
          "base_uri": "https://localhost:8080/"
        },
        "id": "A9InZi7sVP6V",
        "outputId": "feb308c1-8b2c-4ab5-bb0b-ad0477f5be02"
      },
      "execution_count": null,
      "outputs": [
        {
          "output_type": "stream",
          "name": "stdout",
          "text": [
            "Element count: {1: 3, 2: 2, 3: 2, 4: 3, 5: 1}\n"
          ]
        }
      ]
    },
    {
      "cell_type": "markdown",
      "source": [
        "Q5"
      ],
      "metadata": {
        "id": "JdTschVJVvuR"
      }
    },
    {
      "cell_type": "code",
      "source": [
        "def find_second_largest(lst):\n",
        "    if len(lst) < 2:\n",
        "        return None\n",
        "    largest = max(lst[0], lst[1])\n",
        "    second_largest = min(lst[0], lst[1])\n",
        "    for i in range(2, len(lst)):\n",
        "        if lst[i] > largest:\n",
        "            second_largest = largest\n",
        "            largest = lst[i]\n",
        "        elif lst[i] > second_largest:\n",
        "            second_largest = lst[i]\n",
        "    return second_largest\n",
        "\n",
        "# Example usage\n",
        "numbers = [10, 5, 7, 3, 9, 2, 8]\n",
        "second_largest = find_second_largest(numbers)\n",
        "print(\"Second largest number:\", second_largest)\n"
      ],
      "metadata": {
        "colab": {
          "base_uri": "https://localhost:8080/"
        },
        "id": "2PRh8u7xVwko",
        "outputId": "b0507de8-9bfd-4ba3-908c-76aaac5c0f46"
      },
      "execution_count": null,
      "outputs": [
        {
          "output_type": "stream",
          "name": "stdout",
          "text": [
            "Second largest number: 9\n"
          ]
        }
      ]
    },
    {
      "cell_type": "markdown",
      "source": [
        "Q6"
      ],
      "metadata": {
        "id": "n93mw9g4V4Iw"
      }
    },
    {
      "cell_type": "code",
      "source": [
        "def remove_duplicates(lst):\n",
        "    return list(set(lst))\n",
        "\n",
        "# Example usage\n",
        "numbers = [1, 2, 3, 2, 4, 1, 5, 4]\n",
        "unique_numbers = remove_duplicates(numbers)\n",
        "print(\"List with duplicates removed:\", unique_numbers)\n"
      ],
      "metadata": {
        "colab": {
          "base_uri": "https://localhost:8080/"
        },
        "id": "Z-lNKZTrV5oA",
        "outputId": "fc77f56f-c79a-493e-fedd-46c491479098"
      },
      "execution_count": null,
      "outputs": [
        {
          "output_type": "stream",
          "name": "stdout",
          "text": [
            "List with duplicates removed: [1, 2, 3, 4, 5]\n"
          ]
        }
      ]
    },
    {
      "cell_type": "markdown",
      "source": [
        "Q7"
      ],
      "metadata": {
        "id": "D6CrCySwWCpY"
      }
    },
    {
      "cell_type": "code",
      "source": [
        "def factorial(n):\n",
        "    if n == 0 or n == 1:\n",
        "        return 1\n",
        "    else:\n",
        "        return n * factorial(n - 1)\n",
        "\n",
        "# Example usage\n",
        "num = int(input(\"Enter a number: \"))\n",
        "result = factorial(num)\n",
        "print(\"Factorial:\", result)\n"
      ],
      "metadata": {
        "colab": {
          "base_uri": "https://localhost:8080/"
        },
        "id": "Ufusg6IlWNGO",
        "outputId": "5c799893-92c1-4a13-90d0-80cd4b6b4bde"
      },
      "execution_count": null,
      "outputs": [
        {
          "output_type": "stream",
          "name": "stdout",
          "text": [
            "Enter a number: 4\n",
            "Factorial: 24\n"
          ]
        }
      ]
    },
    {
      "cell_type": "markdown",
      "source": [
        "Q8"
      ],
      "metadata": {
        "id": "QDeXF738WPyr"
      }
    },
    {
      "cell_type": "code",
      "source": [
        "import math\n",
        "\n",
        "def is_prime(number):\n",
        "    if number < 2:\n",
        "        return False\n",
        "    for i in range(2, int(math.sqrt(number)) + 1):\n",
        "        if number % i == 0:\n",
        "            return False\n",
        "    return True\n",
        "\n",
        "# Example usage\n",
        "num = int(input(\"Enter a number: \"))\n",
        "if is_prime(num):\n",
        "    print(\"The number is prime.\")\n",
        "else:\n",
        "    print(\"The number is not prime.\")\n"
      ],
      "metadata": {
        "colab": {
          "base_uri": "https://localhost:8080/"
        },
        "id": "a-CJsTufWQ0K",
        "outputId": "cc4361cf-1501-416a-a6ad-3a6c2b93aca3"
      },
      "execution_count": null,
      "outputs": [
        {
          "output_type": "stream",
          "name": "stdout",
          "text": [
            "Enter a number: 10\n",
            "The number is not prime.\n"
          ]
        }
      ]
    },
    {
      "cell_type": "markdown",
      "source": [
        "Q9"
      ],
      "metadata": {
        "id": "elhQD1tYSUbU"
      }
    },
    {
      "cell_type": "markdown",
      "source": [],
      "metadata": {
        "id": "S7160YEoSVKz"
      }
    },
    {
      "cell_type": "code",
      "source": [
        "def sort_list(lst):\n",
        "    return sorted(lst)\n",
        "\n",
        "# Example usage\n",
        "numbers = [5, 2, 9, 1, 3]\n",
        "sorted_numbers = sort_list(numbers)\n",
        "print(\"Sorted list:\", sorted_numbers)\n"
      ],
      "metadata": {
        "colab": {
          "base_uri": "https://localhost:8080/"
        },
        "id": "2eey51zOSVMT",
        "outputId": "fe6417d9-0e3e-489a-8be7-3d5542198f5a"
      },
      "execution_count": null,
      "outputs": [
        {
          "output_type": "stream",
          "name": "stdout",
          "text": [
            "Sorted list: [1, 2, 3, 5, 9]\n"
          ]
        }
      ]
    },
    {
      "cell_type": "markdown",
      "source": [
        "Q10"
      ],
      "metadata": {
        "id": "JtU-_ZhAScpz"
      }
    },
    {
      "cell_type": "code",
      "source": [
        "def find_sum(lst):\n",
        "    return sum(lst)\n",
        "\n",
        "# Example usage\n",
        "numbers = [1, 2, 3, 4, 5]\n",
        "total_sum = find_sum(numbers)\n",
        "print(total_sum)"
      ],
      "metadata": {
        "colab": {
          "base_uri": "https://localhost:8080/"
        },
        "id": "hoIUCDfbSeGA",
        "outputId": "265da816-750c-4f8a-f3ef-0dc84ef4b3e1"
      },
      "execution_count": null,
      "outputs": [
        {
          "output_type": "stream",
          "name": "stdout",
          "text": [
            "15\n"
          ]
        }
      ]
    },
    {
      "cell_type": "markdown",
      "source": [
        "Q11"
      ],
      "metadata": {
        "id": "PBJyWBC8SnW-"
      }
    },
    {
      "cell_type": "code",
      "source": [
        "def find_common_elements(list1, list2):\n",
        "    common_elements = []\n",
        "    for item in list1:\n",
        "        if item in list2 and item not in common_elements:\n",
        "            common_elements.append(item)\n",
        "    return common_elements\n",
        "\n",
        "# Example usage\n",
        "list1 = [1, 2, 3, 4, 5]\n",
        "list2 = [4, 5, 6, 7, 8]\n",
        "common_elements = find_common_elements(list1, list2)\n",
        "print(\"Common elements:\", common_elements)\n"
      ],
      "metadata": {
        "colab": {
          "base_uri": "https://localhost:8080/"
        },
        "id": "oxS8NfoGSoVN",
        "outputId": "9bd8d5cf-4a99-4a3a-e95f-9fdd7693e5f6"
      },
      "execution_count": null,
      "outputs": [
        {
          "output_type": "stream",
          "name": "stdout",
          "text": [
            "Common elements: [4, 5]\n"
          ]
        }
      ]
    },
    {
      "cell_type": "markdown",
      "source": [
        "Q12"
      ],
      "metadata": {
        "id": "2NDiFE0HTScV"
      }
    },
    {
      "cell_type": "code",
      "source": [
        "def is_anagram(str1, str2):\n",
        "    str1 = str1.lower().replace(\" \", \"\")\n",
        "    str2 = str2.lower().replace(\" \", \"\")\n",
        "    if len(str1) != len(str2):\n",
        "        return False\n",
        "    for char in str1:\n",
        "        if char in str2:\n",
        "            str2 = str2.replace(char, \"\", 1)\n",
        "        else:\n",
        "            return False\n",
        "    return True\n",
        "\n",
        "# Example usage\n",
        "string1 = input(\"Enter the first string: \")\n",
        "string2 = input(\"Enter the second string: \")\n",
        "if is_anagram(string1, string2):\n",
        "    print(\"The strings are anagrams.\")\n",
        "else:\n",
        "    print(\"The strings are not anagrams.\")\n"
      ],
      "metadata": {
        "colab": {
          "base_uri": "https://localhost:8080/"
        },
        "id": "2OQ1m7l0TTtB",
        "outputId": "798553ca-43bc-484f-99dd-983c0385fbc9"
      },
      "execution_count": null,
      "outputs": [
        {
          "output_type": "stream",
          "name": "stdout",
          "text": [
            "Enter the first string: data\n",
            "Enter the second string: analyst\n",
            "The strings are not anagrams.\n"
          ]
        }
      ]
    },
    {
      "cell_type": "markdown",
      "source": [
        "Q13"
      ],
      "metadata": {
        "id": "DdxIcfaaTjuw"
      }
    },
    {
      "cell_type": "code",
      "source": [
        "def permutations(string):\n",
        "    if len(string) == 1:\n",
        "        return [string]\n",
        "    perms = []\n",
        "    for i in range(len(string)):\n",
        "        char = string[i]\n",
        "        remaining_chars = string[:i] + string[i+1:]\n",
        "        for perm in permutations(remaining_chars):\n",
        "            perms.append(char + perm)\n",
        "    return perms\n",
        "\n",
        "# Example usage\n",
        "input_string = input(\"Enter a string: \")\n",
        "permutations_list = permutations(input_string)\n",
        "print(\"Permutations:\", permutations_list)\n"
      ],
      "metadata": {
        "colab": {
          "base_uri": "https://localhost:8080/"
        },
        "id": "3JPjeHahTkXe",
        "outputId": "aff7933c-0f39-459c-8059-9cd6e4c0a343"
      },
      "execution_count": null,
      "outputs": [
        {
          "output_type": "stream",
          "name": "stdout",
          "text": [
            "Enter a string: pisces\n",
            "Permutations: ['pisces', 'piscse', 'pisecs', 'pisesc', 'pissce', 'pissec', 'picses', 'picsse', 'picess', 'picess', 'picsse', 'picses', 'piescs', 'piessc', 'piecss', 'piecss', 'piessc', 'piescs', 'pissce', 'pissec', 'piscse', 'pisces', 'pisesc', 'pisecs', 'psices', 'psicse', 'psiecs', 'psiesc', 'psisce', 'psisec', 'pscies', 'pscise', 'psceis', 'pscesi', 'pscsie', 'pscsei', 'pseics', 'pseisc', 'psecis', 'psecsi', 'psesic', 'psesci', 'pssice', 'pssiec', 'psscie', 'psscei', 'psseic', 'psseci', 'pcises', 'pcisse', 'pciess', 'pciess', 'pcisse', 'pcises', 'pcsies', 'pcsise', 'pcseis', 'pcsesi', 'pcssie', 'pcssei', 'pceiss', 'pceiss', 'pcesis', 'pcessi', 'pcesis', 'pcessi', 'pcsise', 'pcsies', 'pcssie', 'pcssei', 'pcseis', 'pcsesi', 'peiscs', 'peissc', 'peicss', 'peicss', 'peissc', 'peiscs', 'pesics', 'pesisc', 'pescis', 'pescsi', 'pessic', 'pessci', 'peciss', 'peciss', 'pecsis', 'pecssi', 'pecsis', 'pecssi', 'pesisc', 'pesics', 'pessic', 'pessci', 'pescis', 'pescsi', 'psisce', 'psisec', 'psicse', 'psices', 'psiesc', 'psiecs', 'pssice', 'pssiec', 'psscie', 'psscei', 'psseic', 'psseci', 'pscise', 'pscies', 'pscsie', 'pscsei', 'psceis', 'pscesi', 'pseisc', 'pseics', 'psesic', 'psesci', 'psecis', 'psecsi', 'ipsces', 'ipscse', 'ipsecs', 'ipsesc', 'ipssce', 'ipssec', 'ipcses', 'ipcsse', 'ipcess', 'ipcess', 'ipcsse', 'ipcses', 'ipescs', 'ipessc', 'ipecss', 'ipecss', 'ipessc', 'ipescs', 'ipssce', 'ipssec', 'ipscse', 'ipsces', 'ipsesc', 'ipsecs', 'ispces', 'ispcse', 'ispecs', 'ispesc', 'ispsce', 'ispsec', 'iscpes', 'iscpse', 'isceps', 'iscesp', 'iscspe', 'iscsep', 'isepcs', 'isepsc', 'isecps', 'isecsp', 'isespc', 'isescp', 'isspce', 'isspec', 'isscpe', 'isscep', 'issepc', 'issecp', 'icpses', 'icpsse', 'icpess', 'icpess', 'icpsse', 'icpses', 'icspes', 'icspse', 'icseps', 'icsesp', 'icsspe', 'icssep', 'icepss', 'icepss', 'icesps', 'icessp', 'icesps', 'icessp', 'icspse', 'icspes', 'icsspe', 'icssep', 'icseps', 'icsesp', 'iepscs', 'iepssc', 'iepcss', 'iepcss', 'iepssc', 'iepscs', 'iespcs', 'iespsc', 'iescps', 'iescsp', 'iesspc', 'iesscp', 'iecpss', 'iecpss', 'iecsps', 'iecssp', 'iecsps', 'iecssp', 'iespsc', 'iespcs', 'iesspc', 'iesscp', 'iescps', 'iescsp', 'ispsce', 'ispsec', 'ispcse', 'ispces', 'ispesc', 'ispecs', 'isspce', 'isspec', 'isscpe', 'isscep', 'issepc', 'issecp', 'iscpse', 'iscpes', 'iscspe', 'iscsep', 'isceps', 'iscesp', 'isepsc', 'isepcs', 'isespc', 'isescp', 'isecps', 'isecsp', 'spices', 'spicse', 'spiecs', 'spiesc', 'spisce', 'spisec', 'spcies', 'spcise', 'spceis', 'spcesi', 'spcsie', 'spcsei', 'speics', 'speisc', 'specis', 'specsi', 'spesic', 'spesci', 'spsice', 'spsiec', 'spscie', 'spscei', 'spseic', 'spseci', 'sipces', 'sipcse', 'sipecs', 'sipesc', 'sipsce', 'sipsec', 'sicpes', 'sicpse', 'siceps', 'sicesp', 'sicspe', 'sicsep', 'siepcs', 'siepsc', 'siecps', 'siecsp', 'siespc', 'siescp', 'sispce', 'sispec', 'siscpe', 'siscep', 'sisepc', 'sisecp', 'scpies', 'scpise', 'scpeis', 'scpesi', 'scpsie', 'scpsei', 'scipes', 'scipse', 'scieps', 'sciesp', 'scispe', 'scisep', 'scepis', 'scepsi', 'sceips', 'sceisp', 'scespi', 'scesip', 'scspie', 'scspei', 'scsipe', 'scsiep', 'scsepi', 'scseip', 'sepics', 'sepisc', 'sepcis', 'sepcsi', 'sepsic', 'sepsci', 'seipcs', 'seipsc', 'seicps', 'seicsp', 'seispc', 'seiscp', 'secpis', 'secpsi', 'secips', 'secisp', 'secspi', 'secsip', 'sespic', 'sespci', 'sesipc', 'sesicp', 'sescpi', 'sescip', 'sspice', 'sspiec', 'sspcie', 'sspcei', 'sspeic', 'sspeci', 'ssipce', 'ssipec', 'ssicpe', 'ssicep', 'ssiepc', 'ssiecp', 'sscpie', 'sscpei', 'sscipe', 'ssciep', 'sscepi', 'ssceip', 'ssepic', 'ssepci', 'sseipc', 'sseicp', 'ssecpi', 'ssecip', 'cpises', 'cpisse', 'cpiess', 'cpiess', 'cpisse', 'cpises', 'cpsies', 'cpsise', 'cpseis', 'cpsesi', 'cpssie', 'cpssei', 'cpeiss', 'cpeiss', 'cpesis', 'cpessi', 'cpesis', 'cpessi', 'cpsise', 'cpsies', 'cpssie', 'cpssei', 'cpseis', 'cpsesi', 'cipses', 'cipsse', 'cipess', 'cipess', 'cipsse', 'cipses', 'cispes', 'cispse', 'ciseps', 'cisesp', 'cisspe', 'cissep', 'ciepss', 'ciepss', 'ciesps', 'ciessp', 'ciesps', 'ciessp', 'cispse', 'cispes', 'cisspe', 'cissep', 'ciseps', 'cisesp', 'cspies', 'cspise', 'cspeis', 'cspesi', 'cspsie', 'cspsei', 'csipes', 'csipse', 'csieps', 'csiesp', 'csispe', 'csisep', 'csepis', 'csepsi', 'cseips', 'cseisp', 'csespi', 'csesip', 'csspie', 'csspei', 'cssipe', 'cssiep', 'cssepi', 'csseip', 'cepiss', 'cepiss', 'cepsis', 'cepssi', 'cepsis', 'cepssi', 'ceipss', 'ceipss', 'ceisps', 'ceissp', 'ceisps', 'ceissp', 'cespis', 'cespsi', 'cesips', 'cesisp', 'cesspi', 'cessip', 'cespis', 'cespsi', 'cesips', 'cesisp', 'cesspi', 'cessip', 'cspise', 'cspies', 'cspsie', 'cspsei', 'cspeis', 'cspesi', 'csipse', 'csipes', 'csispe', 'csisep', 'csieps', 'csiesp', 'csspie', 'csspei', 'cssipe', 'cssiep', 'cssepi', 'csseip', 'csepis', 'csepsi', 'cseips', 'cseisp', 'csespi', 'csesip', 'episcs', 'epissc', 'epicss', 'epicss', 'epissc', 'episcs', 'epsics', 'epsisc', 'epscis', 'epscsi', 'epssic', 'epssci', 'epciss', 'epciss', 'epcsis', 'epcssi', 'epcsis', 'epcssi', 'epsisc', 'epsics', 'epssic', 'epssci', 'epscis', 'epscsi', 'eipscs', 'eipssc', 'eipcss', 'eipcss', 'eipssc', 'eipscs', 'eispcs', 'eispsc', 'eiscps', 'eiscsp', 'eisspc', 'eisscp', 'eicpss', 'eicpss', 'eicsps', 'eicssp', 'eicsps', 'eicssp', 'eispsc', 'eispcs', 'eisspc', 'eisscp', 'eiscps', 'eiscsp', 'espics', 'espisc', 'espcis', 'espcsi', 'espsic', 'espsci', 'esipcs', 'esipsc', 'esicps', 'esicsp', 'esispc', 'esiscp', 'escpis', 'escpsi', 'escips', 'escisp', 'escspi', 'escsip', 'esspic', 'esspci', 'essipc', 'essicp', 'esscpi', 'esscip', 'ecpiss', 'ecpiss', 'ecpsis', 'ecpssi', 'ecpsis', 'ecpssi', 'ecipss', 'ecipss', 'ecisps', 'ecissp', 'ecisps', 'ecissp', 'ecspis', 'ecspsi', 'ecsips', 'ecsisp', 'ecsspi', 'ecssip', 'ecspis', 'ecspsi', 'ecsips', 'ecsisp', 'ecsspi', 'ecssip', 'espisc', 'espics', 'espsic', 'espsci', 'espcis', 'espcsi', 'esipsc', 'esipcs', 'esispc', 'esiscp', 'esicps', 'esicsp', 'esspic', 'esspci', 'essipc', 'essicp', 'esscpi', 'esscip', 'escpis', 'escpsi', 'escips', 'escisp', 'escspi', 'escsip', 'spisce', 'spisec', 'spicse', 'spices', 'spiesc', 'spiecs', 'spsice', 'spsiec', 'spscie', 'spscei', 'spseic', 'spseci', 'spcise', 'spcies', 'spcsie', 'spcsei', 'spceis', 'spcesi', 'speisc', 'speics', 'spesic', 'spesci', 'specis', 'specsi', 'sipsce', 'sipsec', 'sipcse', 'sipces', 'sipesc', 'sipecs', 'sispce', 'sispec', 'siscpe', 'siscep', 'sisepc', 'sisecp', 'sicpse', 'sicpes', 'sicspe', 'sicsep', 'siceps', 'sicesp', 'siepsc', 'siepcs', 'siespc', 'siescp', 'siecps', 'siecsp', 'sspice', 'sspiec', 'sspcie', 'sspcei', 'sspeic', 'sspeci', 'ssipce', 'ssipec', 'ssicpe', 'ssicep', 'ssiepc', 'ssiecp', 'sscpie', 'sscpei', 'sscipe', 'ssciep', 'sscepi', 'ssceip', 'ssepic', 'ssepci', 'sseipc', 'sseicp', 'ssecpi', 'ssecip', 'scpise', 'scpies', 'scpsie', 'scpsei', 'scpeis', 'scpesi', 'scipse', 'scipes', 'scispe', 'scisep', 'scieps', 'sciesp', 'scspie', 'scspei', 'scsipe', 'scsiep', 'scsepi', 'scseip', 'scepis', 'scepsi', 'sceips', 'sceisp', 'scespi', 'scesip', 'sepisc', 'sepics', 'sepsic', 'sepsci', 'sepcis', 'sepcsi', 'seipsc', 'seipcs', 'seispc', 'seiscp', 'seicps', 'seicsp', 'sespic', 'sespci', 'sesipc', 'sesicp', 'sescpi', 'sescip', 'secpis', 'secpsi', 'secips', 'secisp', 'secspi', 'secsip']\n"
          ]
        }
      ]
    },
    {
      "cell_type": "markdown",
      "source": [
        "Q14"
      ],
      "metadata": {
        "id": "C2-8jvzgT6Vd"
      }
    },
    {
      "cell_type": "code",
      "source": [
        "def fibonacci(n):\n",
        "    if n <= 0:\n",
        "        return []\n",
        "    elif n == 1:\n",
        "        return [0]\n",
        "    elif n == 2:\n",
        "        return [0, 1]\n",
        "    sequence = [0, 1]\n",
        "    while len(sequence) < n:\n",
        "        sequence.append(sequence[-1] + sequence[-2])\n",
        "    return sequence\n",
        "\n",
        "# Example usage\n",
        "num_terms = int(input(\"Enter the number of Fibonacci terms: \"))\n",
        "fibonacci_sequence = fibonacci(num_terms)\n",
        "print(\"Fibonacci sequence:\", fibonacci_sequence)\n"
      ],
      "metadata": {
        "id": "y4GqF_JQT7D2"
      },
      "execution_count": null,
      "outputs": []
    },
    {
      "cell_type": "markdown",
      "source": [
        "Q15"
      ],
      "metadata": {
        "id": "MqH8NPaZT_90"
      }
    },
    {
      "cell_type": "code",
      "source": [
        "def find_median(lst):\n",
        "    sorted_lst = sorted(lst)\n",
        "    length = len(sorted_lst)\n",
        "    if length % 2 == 0:\n",
        "        mid1 = sorted_lst[length//2]\n",
        "        mid2 = sorted_lst[length//2 - 1]\n",
        "        median = (mid1 + mid2) / 2\n",
        "    else:\n",
        "        median = sorted_lst[length//2]\n",
        "    return median\n",
        "\n",
        "# Example usage\n",
        "numbers = [5, 2, 8, 1, 3]\n",
        "median = find_median(numbers)\n",
        "print(\"Median:\", median)\n"
      ],
      "metadata": {
        "id": "3FjR93aCUB3W"
      },
      "execution_count": null,
      "outputs": []
    },
    {
      "cell_type": "markdown",
      "source": [
        "Q16"
      ],
      "metadata": {
        "id": "RmF6ZLvbUEoi"
      }
    },
    {
      "cell_type": "code",
      "source": [
        "def is_sorted(lst):\n",
        "    for i in range(1, len(lst)):\n",
        "        if lst[i] < lst[i-1]:\n",
        "            return False\n",
        "    return True\n",
        "\n",
        "# Example usage\n",
        "numbers = [1, 2, 3, 4, 5]\n",
        "if is_sorted(numbers):\n",
        "    print(\"The list is sorted.\")\n",
        "else:\n",
        "    print(\"The list is not sorted.\")\n"
      ],
      "metadata": {
        "id": "HMC82IlyUGHK"
      },
      "execution_count": null,
      "outputs": []
    },
    {
      "cell_type": "markdown",
      "source": [
        "Q17"
      ],
      "metadata": {
        "id": "-jGYHChsUJjB"
      }
    },
    {
      "cell_type": "code",
      "source": [
        "def find_intersection(list1, list2):\n",
        "    return list(set(list1) & set(list2))\n",
        "\n",
        "# Example usage\n",
        "list1 = [1, 2, 3, 4, 5]\n",
        "list2 = [4, 5, 6, 7, 8]\n",
        "intersection = find_intersection(list1, list2)\n",
        "print(\"Intersection:\", intersection)\n"
      ],
      "metadata": {
        "id": "HiFSdzjjUKg1"
      },
      "execution_count": null,
      "outputs": []
    },
    {
      "cell_type": "markdown",
      "source": [
        "Q18"
      ],
      "metadata": {
        "id": "wjpJLYQLUO9I"
      }
    },
    {
      "cell_type": "code",
      "source": [
        "def max_subarray_sum(lst):\n",
        "    max_sum = lst[0]\n",
        "    current_sum = lst[0]\n",
        "    for i in range(1, len(lst)):\n",
        "        current_sum = max(lst[i], current_sum + lst[i])\n",
        "        max_sum = max(max_sum, current_sum)\n",
        "    return max_sum\n",
        "\n",
        "# Example usage\n",
        "numbers = [-2, 1, -3, 4, -1, 2, 1, -5, 4]\n",
        "max_sum = max_subarray_sum(numbers)\n",
        "print(\"Maximum subarray sum:\", max_sum)\n"
      ],
      "metadata": {
        "id": "4kJ5czAEURR2"
      },
      "execution_count": null,
      "outputs": []
    },
    {
      "cell_type": "markdown",
      "source": [
        "Q19"
      ],
      "metadata": {
        "id": "niDMw_-zUViB"
      }
    },
    {
      "cell_type": "code",
      "source": [
        "def remove_vowels(string):\n",
        "    vowels = ['a', 'e', 'i', 'o', 'u']\n",
        "    result = ''\n",
        "    for char in string:\n",
        "        if char.lower() not in vowels:\n",
        "            result += char\n",
        "    return result\n",
        "\n",
        "# Example usage\n",
        "input_string = input(\"Enter a string: \")\n",
        "string_without_vowels = remove_vowels(input_string)\n",
        "print(\"String without vowels:\", string_without_vowels)\n"
      ],
      "metadata": {
        "id": "MWsq153DUWgn"
      },
      "execution_count": null,
      "outputs": []
    },
    {
      "cell_type": "markdown",
      "source": [
        "Q20"
      ],
      "metadata": {
        "id": "KVcIUeH1Ujcq"
      }
    },
    {
      "cell_type": "code",
      "source": [
        "def reverse_words(sentence):\n",
        "    words = sentence.split()\n",
        "    reversed_words = ' '.join(reversed(words))\n",
        "    return reversed_words\n",
        "\n",
        "# Example usage\n",
        "input_sentence = input(\"Enter a sentence: \")\n",
        "reversed_sentence = reverse_words(input_sentence)\n",
        "print(\"Reversed sentence:\", reversed_sentence)\n"
      ],
      "metadata": {
        "colab": {
          "base_uri": "https://localhost:8080/"
        },
        "id": "YSj0ss3FUkRB",
        "outputId": "202f1642-a521-40b7-cbfd-1349b10b956e"
      },
      "execution_count": null,
      "outputs": [
        {
          "output_type": "stream",
          "name": "stdout",
          "text": [
            "Enter a sentence: data analyst\n",
            "Reversed sentence: analyst data\n"
          ]
        }
      ]
    },
    {
      "cell_type": "markdown",
      "source": [
        "Q21"
      ],
      "metadata": {
        "id": "jwMcGEI6U0Dn"
      }
    },
    {
      "cell_type": "code",
      "source": [
        "def are_anagrams(str1, str2):\n",
        "    str1 = str1.lower().replace(\" \", \"\")\n",
        "    str2 = str2.lower().replace(\" \", \"\")\n",
        "    if len(str1) != len(str2):\n",
        "        return False\n",
        "    return sorted(str1) == sorted(str2)\n",
        "\n",
        "# Example usage\n",
        "string1 = input(\"Enter the first string: \")\n",
        "string2 = input(\"Enter the second string: \")\n",
        "if are_anagrams(string1, string2):\n",
        "    print(\"The strings are anagrams.\")\n",
        "else:\n",
        "    print(\"The strings are not anagrams.\")\n"
      ],
      "metadata": {
        "id": "CvhjjrBiU0vV"
      },
      "execution_count": null,
      "outputs": []
    },
    {
      "cell_type": "markdown",
      "source": [
        "Q22"
      ],
      "metadata": {
        "id": "o6VtWPDFU9V2"
      }
    },
    {
      "cell_type": "code",
      "source": [
        "def find_first_non_repeating_char(string):\n",
        "    char_count = {}\n",
        "    for char in string:\n",
        "        if char in char_count:\n",
        "            char_count[char] += 1\n",
        "        else:\n",
        "            char_count[char] = 1\n",
        "    for char in string:\n",
        "        if char_count[char] == 1:\n",
        "            return char\n",
        "    return None\n",
        "\n",
        "# Example usage\n",
        "input_string = input(\"Enter a string: \")\n",
        "non_repeating_char = find_first_non_repeating_char(input_string)\n",
        "if non_repeating_char:\n",
        "    print(\"First non-repeating character:\", non_repeating_char)\n",
        "else:\n",
        "    print(\"No non-repeating character found.\")\n"
      ],
      "metadata": {
        "id": "TeZVR2l9U_f_"
      },
      "execution_count": null,
      "outputs": []
    },
    {
      "cell_type": "markdown",
      "source": [
        "Q23"
      ],
      "metadata": {
        "id": "zaGFMd1xVCz_"
      }
    },
    {
      "cell_type": "code",
      "source": [
        "def find_prime_factors(n):\n",
        "    factors = []\n",
        "    divisor = 2\n",
        "    while n > 1:\n",
        "        if n % divisor == 0:\n",
        "            factors.append(divisor)\n",
        "            n = n / divisor\n",
        "        else:\n",
        "            divisor += 1\n",
        "    return factors\n",
        "\n",
        "# Example usage\n",
        "num = int(input(\"Enter a number: \"))\n",
        "prime_factors = find_prime_factors(num)\n",
        "print(\"Prime factors:\", prime_factors)\n"
      ],
      "metadata": {
        "id": "Sgr9UtlbVDgH"
      },
      "execution_count": null,
      "outputs": []
    },
    {
      "cell_type": "markdown",
      "source": [
        "Q24"
      ],
      "metadata": {
        "id": "-ygB48NiVGV3"
      }
    },
    {
      "cell_type": "code",
      "source": [
        "def is_power_of_two(n):\n",
        "    if n <= 0:\n",
        "        return False\n",
        "    while n % 2 == 0:\n",
        "        n = n // 2\n",
        "    return n == 1\n",
        "\n",
        "# Example usage\n",
        "num = int(input(\"Enter a number: \"))\n",
        "if is_power_of_two(num):\n",
        "    print(\"The number is a power of two.\")\n",
        "else:\n",
        "    print(\"The number is not a power of two.\")\n"
      ],
      "metadata": {
        "id": "xnZ7y7foVHPC"
      },
      "execution_count": null,
      "outputs": []
    },
    {
      "cell_type": "markdown",
      "source": [
        "Q25"
      ],
      "metadata": {
        "id": "a6JF11rUVLp1"
      }
    },
    {
      "cell_type": "code",
      "source": [
        "def merge_sorted_lists(list1, list2):\n",
        "    merged_list = []\n",
        "    i, j = 0, 0\n",
        "    while i < len(list1) and j < len(list2):\n",
        "        if list1[i] < list2[j]:\n",
        "            merged_list.append(list1[i])\n",
        "            i += 1\n",
        "        else:\n",
        "            merged_list.append(list2[j])\n",
        "            j += 1\n",
        "    merged_list.extend(list1[i:])\n",
        "    merged_list.extend(list2[j:])\n",
        "    return merged_list\n",
        "\n",
        "# Example usage\n",
        "list1 = [1, 3, 5, 7, 9]\n",
        "list2 = [2, 4, 6, 8, 10]\n",
        "merged_list = merge_sorted_lists(list1, list2)\n",
        "print(\"Merged list:\", merged_list)\n"
      ],
      "metadata": {
        "colab": {
          "base_uri": "https://localhost:8080/"
        },
        "id": "oI5IHBnoVMyg",
        "outputId": "6ce7418b-74e3-4670-8e8c-d934f92579b5"
      },
      "execution_count": null,
      "outputs": [
        {
          "output_type": "stream",
          "name": "stdout",
          "text": [
            "Merged list: [1, 2, 3, 4, 5, 6, 7, 8, 9, 10]\n"
          ]
        }
      ]
    },
    {
      "cell_type": "markdown",
      "source": [
        "Q26"
      ],
      "metadata": {
        "id": "pasFpu02VQTW"
      }
    },
    {
      "cell_type": "code",
      "source": [
        "from collections import Counter\n",
        "\n",
        "def find_mode(lst):\n",
        "    counter = Counter(lst)\n",
        "    max_count = max(counter.values())\n",
        "    mode = [num for num, count in counter.items() if count == max_count]\n",
        "    return mode\n",
        "\n",
        "# Example usage\n",
        "numbers = [1, 2, 3, 2, 4, 1, 5, 4]\n",
        "mode = find_mode(numbers)\n",
        "print(\"Mode:\", mode)\n"
      ],
      "metadata": {
        "colab": {
          "base_uri": "https://localhost:8080/"
        },
        "id": "MuBBG3fcVROZ",
        "outputId": "8166b291-df0d-4dae-c615-8f199e85a7c7"
      },
      "execution_count": null,
      "outputs": [
        {
          "output_type": "stream",
          "name": "stdout",
          "text": [
            "Mode: [1, 2, 4]\n"
          ]
        }
      ]
    },
    {
      "cell_type": "markdown",
      "source": [
        "Q27"
      ],
      "metadata": {
        "id": "SkRmW5SlVb4M"
      }
    },
    {
      "cell_type": "code",
      "source": [
        "def find_gcd(a, b):\n",
        "    while b != 0:\n",
        "        a, b = b, a % b\n",
        "    return a\n",
        "\n",
        "# Example usage\n",
        "num1 = int(input(\"Enter the first number: \"))\n",
        "num2 = int(input(\"Enter the second number: \"))\n",
        "gcd = find_gcd(num1, num2)\n",
        "print(\"GCD:\", gcd)\n"
      ],
      "metadata": {
        "id": "tXseiTXmVcht"
      },
      "execution_count": null,
      "outputs": []
    },
    {
      "cell_type": "markdown",
      "source": [
        "Q28"
      ],
      "metadata": {
        "id": "te_I5SYnVhtp"
      }
    },
    {
      "cell_type": "code",
      "source": [
        "def square_root(n):\n",
        "    if n < 0:\n",
        "        raise ValueError(\"Square root is not defined for negative numbers.\")\n",
        "    guess = n\n",
        "    while True:\n",
        "        new_guess = (guess + n / guess) / 2\n",
        "        if abs(guess - new_guess) < 0.00001:  # Adjust epsilon value for desired precision\n",
        "            return new_guess\n",
        "        guess = new_guess\n",
        "\n",
        "# Example usage\n",
        "num = float(input(\"Enter a number: \"))\n",
        "sqrt = square_root(num)\n",
        "print(\"Square root:\", sqrt)\n"
      ],
      "metadata": {
        "id": "r7pY16fXViow"
      },
      "execution_count": null,
      "outputs": []
    },
    {
      "cell_type": "markdown",
      "source": [
        "Q29"
      ],
      "metadata": {
        "id": "qfdsTZjFVm_z"
      }
    },
    {
      "cell_type": "code",
      "source": [
        "import re\n",
        "\n",
        "def is_valid_palindrome(string):\n",
        "    alphanumeric_string = re.sub('[\\W_]', '', string.lower())\n",
        "    return alphanumeric_string == alphanumeric_string[::-1]\n",
        "\n",
        "# Example usage\n",
        "input_string = input(\"Enter a string: \")\n",
        "if is_valid_palindrome(input_string):\n",
        "    print(\"The string is a valid palindrome.\")\n",
        "else:\n",
        "    print(\"The string is not a valid palindrome.\")\n"
      ],
      "metadata": {
        "id": "Dze2NXEUVn1l"
      },
      "execution_count": null,
      "outputs": []
    },
    {
      "cell_type": "markdown",
      "source": [
        "Q30"
      ],
      "metadata": {
        "id": "_bvI7KS0VqNj"
      }
    },
    {
      "cell_type": "code",
      "source": [
        "def find_minimum_rotated(lst):\n",
        "    start, end = 0, len(lst) - 1\n",
        "    while start < end:\n",
        "        mid = (start + end) // 2\n",
        "        if lst[mid] > lst[end]:\n",
        "            start = mid + 1\n",
        "        else:\n",
        "            end = mid\n",
        "    return lst[start]\n",
        "\n",
        "# Example usage\n",
        "numbers = [4, 5, 6, 7, 1, 2, 3]\n",
        "minimum = find_minimum_rotated(numbers)\n",
        "print(\"Minimum element:\", minimum)\n"
      ],
      "metadata": {
        "id": "iTFEhV3OVq93"
      },
      "execution_count": null,
      "outputs": []
    },
    {
      "cell_type": "markdown",
      "source": [
        "Q31"
      ],
      "metadata": {
        "id": "wSyFh3jmVtpk"
      }
    },
    {
      "cell_type": "code",
      "source": [
        "def sum_of_even_numbers(lst):\n",
        "    return sum(num for num in lst if num % 2 == 0)\n",
        "\n",
        "# Example usage\n",
        "numbers = [1, 2, 3, 4, 5, 6, 7, 8, 9, 10]\n",
        "even_sum = sum_of_even_numbers(numbers)\n",
        "print(\"Sum of even numbers:\", even_sum)\n"
      ],
      "metadata": {
        "id": "WEZzb6ozVuWt"
      },
      "execution_count": null,
      "outputs": []
    },
    {
      "cell_type": "markdown",
      "source": [
        "Q32"
      ],
      "metadata": {
        "id": "BlS-3t8-V949"
      }
    },
    {
      "cell_type": "code",
      "source": [
        "def power(base, exponent):\n",
        "    if exponent == 0:\n",
        "        return 1\n",
        "    elif exponent < 0:\n",
        "        return 1 / power(base, -exponent)\n",
        "    else:\n",
        "        return base * power(base, exponent - 1)\n",
        "\n",
        "# Example usage\n",
        "base = float(input(\"Enter the base number: \"))\n",
        "exponent = int(input(\"Enter the exponent: \"))\n",
        "result = power(base, exponent)\n",
        "print(\"Result:\", result)\n"
      ],
      "metadata": {
        "id": "FeL1daDTWAF7"
      },
      "execution_count": null,
      "outputs": []
    },
    {
      "cell_type": "markdown",
      "source": [
        "Q33"
      ],
      "metadata": {
        "id": "BxdovcvYWEOv"
      }
    },
    {
      "cell_type": "code",
      "source": [
        "def remove_duplicates_preserve_order(lst):\n",
        "    seen = set()\n",
        "    return [x for x in lst if not (x in seen or seen.add(x))]\n",
        "\n",
        "# Example usage\n",
        "numbers = [1, 2, 3, 2, 4, 1, 5, 4]\n",
        "unique_numbers = remove_duplicates_preserve_order(numbers)\n",
        "print(\"List with duplicates removed:\", unique_numbers)\n"
      ],
      "metadata": {
        "id": "e0rWeGGsWE5s"
      },
      "execution_count": null,
      "outputs": []
    },
    {
      "cell_type": "markdown",
      "source": [
        "Q34"
      ],
      "metadata": {
        "id": "I5YAAx3JWHFH"
      }
    },
    {
      "cell_type": "code",
      "source": [
        "def find_longest_common_prefix(strings):\n",
        "    if not strings:\n",
        "        return \"\"\n",
        "    prefix = strings[0]\n",
        "    for string in strings[1:]:\n",
        "        while not string.startswith(prefix):\n",
        "            prefix = prefix[:-1]\n",
        "            if not prefix:\n",
        "                return \"\"\n",
        "    return prefix\n",
        "\n",
        "# Example usage\n",
        "string_list = [\"apple\", \"application\", \"aptitude\"]\n",
        "common_prefix = find_longest_common_prefix(string_list)\n",
        "print(\"Longest common prefix:\", common_prefix)\n"
      ],
      "metadata": {
        "id": "akowO3FfWIDq"
      },
      "execution_count": null,
      "outputs": []
    },
    {
      "cell_type": "markdown",
      "source": [
        "Q35"
      ],
      "metadata": {
        "id": "_2gw-zadWKZx"
      }
    },
    {
      "cell_type": "code",
      "source": [
        "def is_perfect_square(num):\n",
        "    if num < 0:\n",
        "        return False\n",
        "    root = int(num ** 0.5)\n",
        "    return root * root == num\n",
        "\n",
        "# Example usage\n",
        "num = int(input(\"Enter a number: \"))\n",
        "if is_perfect_square(num):\n",
        "    print(\"The number is a perfect square.\")\n",
        "else:\n",
        "    print(\"The number is not a perfect square.\")\n"
      ],
      "metadata": {
        "id": "68pFCs6pWLHr"
      },
      "execution_count": null,
      "outputs": []
    },
    {
      "cell_type": "markdown",
      "source": [
        "Q36"
      ],
      "metadata": {
        "id": "KX7LATNdWPgd"
      }
    },
    {
      "cell_type": "code",
      "source": [
        "def calculate_product(lst):\n",
        "    if len(lst) == 0:\n",
        "        return None\n",
        "    product = 1\n",
        "    for num in lst:\n",
        "        product *= num\n",
        "    return product\n",
        "\n",
        "# Example usage\n",
        "numbers = [1, 2, 3, 4, 5]\n",
        "product = calculate_product(numbers)\n",
        "print(\"Product:\", product)\n"
      ],
      "metadata": {
        "id": "I8w1Ai33WQ-C"
      },
      "execution_count": null,
      "outputs": []
    },
    {
      "cell_type": "markdown",
      "source": [
        "Q37"
      ],
      "metadata": {
        "id": "GJ4k2yf0WcPf"
      }
    },
    {
      "cell_type": "code",
      "source": [
        "def reverse_words_preserve_order(sentence):\n",
        "    words = sentence.split()\n",
        "    reversed_words = ' '.join(words[::-1])\n",
        "    return reversed_words\n",
        "\n",
        "# Example usage\n",
        "input_sentence = input(\"Enter a sentence: \")\n",
        "reversed_sentence = reverse_words_preserve_order(input_sentence)\n",
        "print(\"Reversed sentence:\", reversed_sentence)\n"
      ],
      "metadata": {
        "id": "AA3vmAXkWddr"
      },
      "execution_count": null,
      "outputs": []
    },
    {
      "cell_type": "markdown",
      "source": [
        "Q38"
      ],
      "metadata": {
        "id": "64lYoTY1WhSB"
      }
    },
    {
      "cell_type": "code",
      "source": [
        "def find_missing_number(lst):\n",
        "    n = len(lst) + 1\n",
        "    expected_sum = (n * (n + 1)) // 2\n",
        "    actual_sum = sum(lst)\n",
        "    missing_number = expected_sum - actual_sum\n",
        "    return missing_number\n",
        "\n",
        "# Example usage\n",
        "numbers = [1, 2, 3, 5, 6]\n",
        "missing_number = find_missing_number(numbers)\n",
        "print(\"Missing number:\", missing_number)\n"
      ],
      "metadata": {
        "id": "CC4RIjAiWiaZ"
      },
      "execution_count": null,
      "outputs": []
    },
    {
      "cell_type": "markdown",
      "source": [
        "Q39"
      ],
      "metadata": {
        "id": "uVfVg3MnWlhP"
      }
    },
    {
      "cell_type": "code",
      "source": [
        "def sum_of_digits(num):\n",
        "    total = 0\n",
        "    while num > 0:\n",
        "        total += num % 10\n",
        "        num //= 10\n",
        "    return total\n",
        "\n",
        "# Example usage\n",
        "num = int(input(\"Enter a number: \"))\n",
        "digit_sum = sum_of_digits(num)\n",
        "print(\"Sum of digits:\", digit_sum)\n"
      ],
      "metadata": {
        "id": "X1uYHpozWmtD"
      },
      "execution_count": null,
      "outputs": []
    },
    {
      "cell_type": "markdown",
      "source": [
        "Q40"
      ],
      "metadata": {
        "id": "PjgXou_PWpy9"
      }
    },
    {
      "cell_type": "code",
      "source": [
        "def is_valid_palindrome_case_sensitive(string):\n",
        "    reversed_string = string[::-1]\n",
        "    return string == reversed_string\n",
        "\n",
        "# Example usage\n",
        "input_string = input(\"Enter a string: \")\n",
        "if is_valid_palindrome_case_sensitive(input_string):\n",
        "    print(\"The string is a valid palindrome.\")\n",
        "else:\n",
        "    print(\"The string is not a valid palindrome.\")\n"
      ],
      "metadata": {
        "id": "T6WmQkZRWqqU"
      },
      "execution_count": null,
      "outputs": []
    },
    {
      "cell_type": "markdown",
      "source": [
        "Q41"
      ],
      "metadata": {
        "id": "BRZdp6lXWyTV"
      }
    },
    {
      "cell_type": "code",
      "source": [
        "def find_smallest_missing_positive(lst):\n",
        "    n = len(lst)\n",
        "    for i in range(n):\n",
        "        while 0 < lst[i] <= n and lst[i] != lst[lst[i] - 1]:\n",
        "            lst[lst[i] - 1], lst[i] = lst[i], lst[lst[i] - 1]\n",
        "    for i in range(n):\n",
        "        if lst[i] != i + 1:\n",
        "            return i + 1\n",
        "    return n + 1\n",
        "\n",
        "# Example usage\n",
        "numbers = [-1, 2, 3, 0, 5]\n",
        "missing_positive = find_smallest_missing_positive(numbers)\n",
        "print(\"Smallest missing positive integer:\", missing_positive)\n"
      ],
      "metadata": {
        "id": "5pOsWNI7W0JJ"
      },
      "execution_count": null,
      "outputs": []
    },
    {
      "cell_type": "markdown",
      "source": [
        "Q42"
      ],
      "metadata": {
        "id": "RmoqVmniW2-Y"
      }
    },
    {
      "cell_type": "code",
      "source": [
        "def longest_palindrome_substring(string):\n",
        "    max_length = 0\n",
        "    start = 0\n",
        "    for i in range(len(string)):\n",
        "        if i - max_length >= 1 and string[i - max_length - 1: i + 1] == string[i - max_length - 1: i + 1][::-1]:\n",
        "            start = i - max_length - 1\n",
        "            max_length += 2\n",
        "        elif string[i - max_length: i + 1] == string[i - max_length: i + 1][::-1]:\n",
        "            start = i - max_length\n",
        "            max_length += 1\n",
        "    return string[start: start + max_length]\n",
        "\n",
        "# Example usage\n",
        "input_string = input(\"Enter a string: \")\n",
        "longest_palindrome = longest_palindrome_substring(input_string)\n",
        "print(\"Longest palindrome substring:\", longest_palindrome)\n"
      ],
      "metadata": {
        "id": "0wPZnrfDW4RA"
      },
      "execution_count": null,
      "outputs": []
    },
    {
      "cell_type": "markdown",
      "source": [
        "Q43"
      ],
      "metadata": {
        "id": "y8cfwTj5W7SL"
      }
    },
    {
      "cell_type": "code",
      "source": [
        "def count_occurrences(lst, element):\n",
        "    return lst.count(element)\n",
        "\n",
        "# Example usage\n",
        "numbers = [1, 2, 3, 2, 4, 1, 5, 4]\n",
        "element = int(input(\"Enter an element: \"))\n",
        "occurrences = count_occurrences(numbers, element)\n",
        "print(\"Occurrences of element:\", occurrences)\n"
      ],
      "metadata": {
        "id": "MGJbSC8TW9fK"
      },
      "execution_count": null,
      "outputs": []
    },
    {
      "cell_type": "markdown",
      "source": [
        "Q44"
      ],
      "metadata": {
        "id": "9ma8EFnyXIdf"
      }
    },
    {
      "cell_type": "code",
      "source": [
        "def is_perfect_number(num):\n",
        "    if num <= 0:\n",
        "        return False\n",
        "    factors = [1]\n",
        "    for i in range(2, int(num**0.5)+1):\n",
        "        if num % i == 0:\n",
        "            factors.extend([i, num//i])\n",
        "    return sum(factors) == num\n",
        "\n",
        "# Example usage\n",
        "num = int(input(\"Enter a number: \"))\n",
        "if is_perfect_number(num):\n",
        "    print(\"The number is a perfect number.\")\n",
        "else:\n",
        "    print(\"The number is not a perfect number.\")\n"
      ],
      "metadata": {
        "id": "TNY9-aPTXJmq"
      },
      "execution_count": null,
      "outputs": []
    },
    {
      "cell_type": "markdown",
      "source": [
        "Q45"
      ],
      "metadata": {
        "id": "9xcVkFQqXPmu"
      }
    },
    {
      "cell_type": "code",
      "source": [
        "def remove_duplicates_from_string(string):\n",
        "    unique_chars = []\n",
        "    for char in string:\n",
        "        if char not in unique_chars:\n",
        "            unique_chars.append(char)\n",
        "    return ''.join(unique_chars)\n",
        "\n",
        "# Example usage\n",
        "input_string = input(\"Enter a string: \")\n",
        "string_without_duplicates = remove_duplicates_from_string(input_string)\n",
        "print(\"String without duplicates:\", string_without_duplicates)\n"
      ],
      "metadata": {
        "id": "HJZg2FgFXQ4t"
      },
      "execution_count": null,
      "outputs": []
    },
    {
      "cell_type": "markdown",
      "source": [
        "Q46"
      ],
      "metadata": {
        "id": "WSICq-U_Xqen"
      }
    },
    {
      "cell_type": "code",
      "source": [
        "def find_first_missing_positive(lst):\n",
        "    n = len(lst)\n",
        "    for i in range(n):\n",
        "        while 0 < lst[i] <= n and lst[i] != lst[lst[i] - 1]:\n",
        "            lst[lst[i] - 1], lst[i] = lst[i], lst[lst[i] - 1]\n",
        "    for i in range(n):\n",
        "        if lst[i] != i + 1:\n",
        "            return i + 1\n",
        "    return n + 1\n",
        "\n",
        "# Example usage\n",
        "numbers = [-1, 2, 3, 0, 5]\n",
        "missing_positive = find_first_missing_positive(numbers)\n",
        "print(\"First missing positive:\", missing_positive)\n"
      ],
      "metadata": {
        "colab": {
          "base_uri": "https://localhost:8080/"
        },
        "id": "hHycf5hvXrg9",
        "outputId": "2bd222f2-2e54-44e6-d3fd-eeb73e9632e3"
      },
      "execution_count": 12,
      "outputs": [
        {
          "output_type": "stream",
          "name": "stdout",
          "text": [
            "First missing positive: 1\n"
          ]
        }
      ]
    }
  ]
}