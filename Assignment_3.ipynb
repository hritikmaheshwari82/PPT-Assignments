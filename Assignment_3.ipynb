{
  "nbformat": 4,
  "nbformat_minor": 0,
  "metadata": {
    "colab": {
      "provenance": []
    },
    "kernelspec": {
      "name": "python3",
      "display_name": "Python 3"
    },
    "language_info": {
      "name": "python"
    }
  },
  "cells": [
    {
      "cell_type": "markdown",
      "source": [
        "# **Assignment 3**"
      ],
      "metadata": {
        "id": "HqAW8d9SH-Sj"
      }
    },
    {
      "cell_type": "markdown",
      "source": [
        "**Q1**"
      ],
      "metadata": {
        "id": "V05eLkGKIFVv"
      }
    },
    {
      "cell_type": "code",
      "source": [
        "class Solution:\n",
        "    def threeSumClosest(self, nums, target):\n",
        "        nums.sort()\n",
        "        n = len(nums)\n",
        "        closest_sum = float('inf')\n",
        "\n",
        "        for i in range(n - 2):\n",
        "            left = i + 1\n",
        "            right = n - 1\n",
        "\n",
        "            while left < right:\n",
        "                current_sum = nums[i] + nums[left] + nums[right]\n",
        "                if current_sum == target:\n",
        "                    return target\n",
        "\n",
        "                if abs(current_sum - target) < abs(closest_sum - target):\n",
        "                    closest_sum = current_sum\n",
        "\n",
        "                if current_sum < target:\n",
        "                    left += 1\n",
        "                else:\n",
        "                    right -= 1\n",
        "\n",
        "        return closest_sum\n",
        "\n",
        "# Example usage\n",
        "nums = [-1, 2, 1, -4]\n",
        "target = 1\n",
        "\n",
        "solution = Solution()\n",
        "result = solution.threeSumClosest(nums, target)\n",
        "print(result)\n"
      ],
      "metadata": {
        "colab": {
          "base_uri": "https://localhost:8080/"
        },
        "id": "bFF4_GDPIHd_",
        "outputId": "f5fbd4c1-51d0-4ff8-e278-e4fca06be8b9"
      },
      "execution_count": null,
      "outputs": [
        {
          "output_type": "stream",
          "name": "stdout",
          "text": [
            "2\n"
          ]
        }
      ]
    },
    {
      "cell_type": "markdown",
      "source": [
        "**Q2**"
      ],
      "metadata": {
        "id": "zneAlA6RIcro"
      }
    },
    {
      "cell_type": "code",
      "source": [
        "class Solution:\n",
        "    def fourSum(self, nums, target):\n",
        "        nums.sort()\n",
        "        n = len(nums)\n",
        "        result = []\n",
        "\n",
        "        for i in range(n - 3):\n",
        "\n",
        "            if i > 0 and nums[i] == nums[i - 1]:\n",
        "                continue\n",
        "\n",
        "            for j in range(i + 1, n - 2):\n",
        "\n",
        "                if j > i + 1 and nums[j] == nums[j - 1]:\n",
        "                    continue\n",
        "\n",
        "                left = j + 1\n",
        "                right = n - 1\n",
        "\n",
        "                while left < right:\n",
        "                    current_sum = nums[i] + nums[j] + nums[left] + nums[right]\n",
        "                    if current_sum == target:\n",
        "                        result.append([nums[i], nums[j], nums[left], nums[right]])\n",
        "\n",
        "                        while left < right and nums[left] == nums[left + 1]:\n",
        "                            left += 1\n",
        "                        while left < right and nums[right] == nums[right - 1]:\n",
        "                            right -= 1\n",
        "\n",
        "                        left += 1\n",
        "                        right -= 1\n",
        "                    elif current_sum < target:\n",
        "                        left += 1\n",
        "                    else:\n",
        "                        right -= 1\n",
        "\n",
        "        return result\n",
        "\n",
        "# Example usage\n",
        "nums = [1, 0, -1, 0, -2, 2]\n",
        "target = 0\n",
        "\n",
        "solution = Solution()\n",
        "result = solution.fourSum(nums, target)\n",
        "print(result)\n"
      ],
      "metadata": {
        "colab": {
          "base_uri": "https://localhost:8080/"
        },
        "id": "m6u6Dm6TIeri",
        "outputId": "2e9acdb2-c607-41aa-8a9c-b2a29ab02bfe"
      },
      "execution_count": null,
      "outputs": [
        {
          "output_type": "stream",
          "name": "stdout",
          "text": [
            "[[-2, -1, 1, 2], [-2, 0, 0, 2], [-1, 0, 0, 1]]\n"
          ]
        }
      ]
    },
    {
      "cell_type": "markdown",
      "source": [
        "**Q3**"
      ],
      "metadata": {
        "id": "B5XdnA6bPOsa"
      }
    },
    {
      "cell_type": "code",
      "source": [
        "def nextPermutation(nums):\n",
        "    n = len(nums)\n",
        "    i = n - 2\n",
        "\n",
        "    while i >= 0 and nums[i] >= nums[i + 1]:\n",
        "        i -= 1\n",
        "\n",
        "    if i >= 0:\n",
        "        j = n - 1\n",
        "\n",
        "        while j > i and nums[j] <= nums[i]:\n",
        "            j -= 1\n",
        "\n",
        "        nums[i], nums[j] = nums[j], nums[i]\n",
        "\n",
        "    left = i + 1\n",
        "    right = n - 1\n",
        "    while left < right:\n",
        "        nums[left], nums[right] = nums[right], nums[left]\n",
        "        left += 1\n",
        "        right -= 1\n",
        "\n",
        "# Example usage\n",
        "nums = [1, 2, 3]\n",
        "nextPermutation(nums)\n",
        "print(nums)\n"
      ],
      "metadata": {
        "colab": {
          "base_uri": "https://localhost:8080/"
        },
        "id": "liUhM01XPREZ",
        "outputId": "7a59dfaa-fc3e-4bb7-c934-01db198059d0"
      },
      "execution_count": null,
      "outputs": [
        {
          "output_type": "stream",
          "name": "stdout",
          "text": [
            "[1, 3, 2]\n"
          ]
        }
      ]
    },
    {
      "cell_type": "markdown",
      "source": [
        "**Q4**"
      ],
      "metadata": {
        "id": "sak-0_FxP3JP"
      }
    },
    {
      "cell_type": "code",
      "source": [
        "def searchInsert(nums, target):\n",
        "    left = 0\n",
        "    right = len(nums) - 1\n",
        "\n",
        "    while left <= right:\n",
        "        mid = (left + right) // 2\n",
        "\n",
        "        if nums[mid] == target:\n",
        "            return mid\n",
        "        elif nums[mid] < target:\n",
        "            left = mid + 1\n",
        "        else:\n",
        "            right = mid - 1\n",
        "\n",
        "    return left\n",
        "\n",
        "# Example usage\n",
        "nums = [1, 3, 5, 6]\n",
        "target = 5\n",
        "\n",
        "index = searchInsert(nums, target)\n",
        "print(index)\n"
      ],
      "metadata": {
        "colab": {
          "base_uri": "https://localhost:8080/"
        },
        "id": "H1UzmcuDP5Qs",
        "outputId": "9080d390-df92-4f13-d10e-1473dd169423"
      },
      "execution_count": null,
      "outputs": [
        {
          "output_type": "stream",
          "name": "stdout",
          "text": [
            "2\n"
          ]
        }
      ]
    },
    {
      "cell_type": "markdown",
      "source": [
        "**Q5**"
      ],
      "metadata": {
        "id": "D3FJDOTDP9c9"
      }
    },
    {
      "cell_type": "code",
      "source": [
        "def plusOne(digits):\n",
        "    n = len(digits)\n",
        "    carry = 1\n",
        "\n",
        "    for i in range(n - 1, -1, -1):\n",
        "        digits[i] += carry\n",
        "\n",
        "        if digits[i] < 10:\n",
        "            carry = 0\n",
        "            break\n",
        "\n",
        "        digits[i] = 0\n",
        "\n",
        "    if carry == 1:\n",
        "        digits.insert(0, 1)\n",
        "\n",
        "    return digits\n",
        "\n",
        "# Example usage\n",
        "digits = [1, 2, 3]\n",
        "result = plusOne(digits)\n",
        "print(result)\n"
      ],
      "metadata": {
        "colab": {
          "base_uri": "https://localhost:8080/"
        },
        "id": "gFKF9rKnP_Zj",
        "outputId": "45c0eac5-266e-4efc-cc59-297b62602dbc"
      },
      "execution_count": null,
      "outputs": [
        {
          "output_type": "stream",
          "name": "stdout",
          "text": [
            "[1, 2, 4]\n"
          ]
        }
      ]
    },
    {
      "cell_type": "markdown",
      "source": [
        "**Q6**"
      ],
      "metadata": {
        "id": "VY6VXLc_Qceo"
      }
    },
    {
      "cell_type": "code",
      "source": [
        "def singleNumber(nums):\n",
        "    single = 0\n",
        "\n",
        "    for num in nums:\n",
        "        single ^= num\n",
        "\n",
        "    return single\n",
        "\n",
        "# Example usage\n",
        "nums = [2, 2, 1]\n",
        "result = singleNumber(nums)\n",
        "print(result)\n"
      ],
      "metadata": {
        "colab": {
          "base_uri": "https://localhost:8080/"
        },
        "id": "8At_7kbBQesQ",
        "outputId": "449f1580-c159-49d0-c02c-6327c669fb77"
      },
      "execution_count": null,
      "outputs": [
        {
          "output_type": "stream",
          "name": "stdout",
          "text": [
            "1\n"
          ]
        }
      ]
    },
    {
      "cell_type": "markdown",
      "source": [
        "**Q7**"
      ],
      "metadata": {
        "id": "97ns1bisQrLo"
      }
    },
    {
      "cell_type": "code",
      "source": [
        "def findMissingRanges(nums, lower, upper):\n",
        "    missing = lower\n",
        "    ranges = []\n",
        "\n",
        "    for num in nums:\n",
        "        if num == missing:\n",
        "            missing += 1\n",
        "        elif num > missing:\n",
        "            ranges.append([missing, num - 1])\n",
        "            missing = num + 1\n",
        "\n",
        "    if missing <= upper:\n",
        "        ranges.append([missing, upper])\n",
        "\n",
        "    return ranges\n",
        "\n",
        "# Example usage\n",
        "nums = [0, 1, 3, 50, 75]\n",
        "lower = 0\n",
        "upper = 99\n",
        "result = findMissingRanges(nums, lower, upper)\n",
        "print(result)\n"
      ],
      "metadata": {
        "colab": {
          "base_uri": "https://localhost:8080/"
        },
        "id": "3b8P1WCSQu32",
        "outputId": "6c5d22d6-1a04-4dfe-c928-c835072b553a"
      },
      "execution_count": null,
      "outputs": [
        {
          "output_type": "stream",
          "name": "stdout",
          "text": [
            "[[2, 2], [4, 49], [51, 74], [76, 99]]\n"
          ]
        }
      ]
    },
    {
      "cell_type": "markdown",
      "source": [
        "**Q8**"
      ],
      "metadata": {
        "id": "QcqHcOXQRHYK"
      }
    },
    {
      "cell_type": "code",
      "source": [
        "def canAttendMeetings(intervals):\n",
        "    intervals.sort(key=lambda x: x[0])\n",
        "\n",
        "    for i in range(1, len(intervals)):\n",
        "        if intervals[i][0] < intervals[i-1][1]:\n",
        "            return False\n",
        "\n",
        "    return True\n",
        "\n",
        "# Example usage\n",
        "intervals = [[0, 30], [5, 10], [15, 20]]\n",
        "result = canAttendMeetings(intervals)\n",
        "print(result)\n"
      ],
      "metadata": {
        "colab": {
          "base_uri": "https://localhost:8080/"
        },
        "id": "5EKokOisRKBM",
        "outputId": "c4221dc4-2d2f-4b74-a0d5-0ad25d99ed9c"
      },
      "execution_count": null,
      "outputs": [
        {
          "output_type": "stream",
          "name": "stdout",
          "text": [
            "False\n"
          ]
        }
      ]
    }
  ]
}