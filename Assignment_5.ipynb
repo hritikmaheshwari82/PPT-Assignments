{
  "nbformat": 4,
  "nbformat_minor": 0,
  "metadata": {
    "colab": {
      "provenance": []
    },
    "kernelspec": {
      "name": "python3",
      "display_name": "Python 3"
    },
    "language_info": {
      "name": "python"
    }
  },
  "cells": [
    {
      "cell_type": "markdown",
      "source": [
        "# **ASSIGNMENT 5**"
      ],
      "metadata": {
        "id": "I7l4mjZHJ9Lc"
      }
    },
    {
      "cell_type": "markdown",
      "source": [
        "**Q1**"
      ],
      "metadata": {
        "id": "aw2vojFGKEEV"
      }
    },
    {
      "cell_type": "code",
      "execution_count": null,
      "metadata": {
        "colab": {
          "base_uri": "https://localhost:8080/"
        },
        "id": "0wZ4X5f6Jci5",
        "outputId": "c013aed1-4304-47a8-ac7c-a8555bf68545"
      },
      "outputs": [
        {
          "output_type": "stream",
          "name": "stdout",
          "text": [
            "[[1, 2], [3, 4]]\n"
          ]
        }
      ],
      "source": [
        "def construct2DArray(original, m, n):\n",
        "    if len(original) != m * n:\n",
        "        return []\n",
        "\n",
        "    result = [[0] * n for _ in range(m)]\n",
        "\n",
        "    for i in range(len(original)):\n",
        "        row = i // n\n",
        "        col = i % n\n",
        "        result[row][col] = original[i]\n",
        "\n",
        "    return result\n",
        "original = [1, 2, 3, 4]\n",
        "m = 2\n",
        "n = 2\n",
        "result = construct2DArray(original, m, n)\n",
        "print(result)\n",
        "\n"
      ]
    },
    {
      "cell_type": "markdown",
      "source": [
        "**Q2**"
      ],
      "metadata": {
        "id": "NZfmBidhKMtH"
      }
    },
    {
      "cell_type": "code",
      "source": [
        "def arrangeCoins(n):\n",
        "    left = 0\n",
        "    right = n\n",
        "\n",
        "    while left <= right:\n",
        "        mid = (left + right) // 2\n",
        "        sum_mid = mid * (mid + 1) // 2\n",
        "\n",
        "        if sum_mid <= n:\n",
        "            left = mid + 1\n",
        "        else:\n",
        "            right = mid - 1\n",
        "\n",
        "    return right\n",
        "n = 5\n",
        "result = arrangeCoins(n)\n",
        "print(result)\n"
      ],
      "metadata": {
        "id": "t_OBlNyeKOFZ",
        "colab": {
          "base_uri": "https://localhost:8080/"
        },
        "outputId": "7280d5a0-eb25-482a-e9a9-b9854c5ea67e"
      },
      "execution_count": 2,
      "outputs": [
        {
          "output_type": "stream",
          "name": "stdout",
          "text": [
            "2\n"
          ]
        }
      ]
    },
    {
      "cell_type": "markdown",
      "source": [
        "**Q3**"
      ],
      "metadata": {
        "id": "OLGaPAKVL3mt"
      }
    },
    {
      "cell_type": "code",
      "source": [
        "def sortedSquares(nums):\n",
        "    n = len(nums)\n",
        "    result = [0] * n\n",
        "    left = 0\n",
        "    right = n - 1\n",
        "\n",
        "    for i in range(n - 1, -1, -1):\n",
        "        if abs(nums[right]) >= abs(nums[left]):\n",
        "            result[i] = nums[right] * nums[right]\n",
        "            right -= 1\n",
        "        else:\n",
        "            result[i] = nums[left] * nums[left]\n",
        "            left += 1\n",
        "\n",
        "    return result\n",
        "nums = [-4, -1, 0, 3, 10]\n",
        "result = sortedSquares(nums)\n",
        "print(result)\n"
      ],
      "metadata": {
        "colab": {
          "base_uri": "https://localhost:8080/"
        },
        "id": "RZQQNNTnL5Oo",
        "outputId": "bf2e22a9-ac23-4195-9973-f657ae06dd65"
      },
      "execution_count": 3,
      "outputs": [
        {
          "output_type": "stream",
          "name": "stdout",
          "text": [
            "[0, 1, 9, 16, 100]\n"
          ]
        }
      ]
    },
    {
      "cell_type": "markdown",
      "source": [
        "**Q4**"
      ],
      "metadata": {
        "id": "8H17i-86MAtY"
      }
    },
    {
      "cell_type": "code",
      "source": [
        "def findDisappearedNumbers(nums1, nums2):\n",
        "    set1 = set(nums1)\n",
        "    set2 = set(nums2)\n",
        "    answer1 = []\n",
        "    answer2 = []\n",
        "\n",
        "    for num in set1:\n",
        "        if num not in set2:\n",
        "            answer1.append(num)\n",
        "\n",
        "    for num in set2:\n",
        "        if num not in set1:\n",
        "            answer2.append(num)\n",
        "\n",
        "    return [answer1, answer2]\n",
        "nums1 = [1, 2, 3]\n",
        "nums2 = [2, 4, 6]\n",
        "result = findDisappearedNumbers(nums1, nums2)\n",
        "print(result)\n"
      ],
      "metadata": {
        "colab": {
          "base_uri": "https://localhost:8080/"
        },
        "id": "LaXpYy-7MCys",
        "outputId": "b5af477d-ee3c-4af1-a332-35fe1dcfb9ae"
      },
      "execution_count": 4,
      "outputs": [
        {
          "output_type": "stream",
          "name": "stdout",
          "text": [
            "[[1, 3], [4, 6]]\n"
          ]
        }
      ]
    },
    {
      "cell_type": "markdown",
      "source": [
        "**Q5**"
      ],
      "metadata": {
        "id": "AchN056aMWza"
      }
    },
    {
      "cell_type": "code",
      "source": [
        "def findTheDistanceValue(arr1, arr2, d):\n",
        "    count = 0\n",
        "\n",
        "    for num1 in arr1:\n",
        "        found = False\n",
        "\n",
        "        for num2 in arr2:\n",
        "            if abs(num1 - num2) <= d:\n",
        "                found = True\n",
        "                break\n",
        "\n",
        "        if not found:\n",
        "            count += 1\n",
        "\n",
        "    return count\n",
        "arr1 = [4, 5, 8]\n",
        "arr2 = [10, 9, 1, 8]\n",
        "d = 2\n",
        "result = findTheDistanceValue(arr1, arr2, d)\n",
        "print(result)\n"
      ],
      "metadata": {
        "colab": {
          "base_uri": "https://localhost:8080/"
        },
        "id": "J8E-ceMTMYwf",
        "outputId": "52aa7b89-82b2-415d-a6c5-cf43adf368e8"
      },
      "execution_count": 5,
      "outputs": [
        {
          "output_type": "stream",
          "name": "stdout",
          "text": [
            "2\n"
          ]
        }
      ]
    },
    {
      "cell_type": "markdown",
      "source": [
        "**Q6**"
      ],
      "metadata": {
        "id": "AtarS7lTMfaP"
      }
    },
    {
      "cell_type": "code",
      "source": [
        "def findDuplicates(nums):\n",
        "    result = []\n",
        "\n",
        "    for num in nums:\n",
        "        idx = abs(num) - 1\n",
        "\n",
        "        if nums[idx] > 0:\n",
        "            nums[idx] *= -1\n",
        "        else:\n",
        "            result.append(idx + 1)\n",
        "\n",
        "    return result\n",
        "nums = [4, 3, 2, 7, 8, 2, 3, 1]\n",
        "result = findDuplicates(nums)\n",
        "print(result)\n"
      ],
      "metadata": {
        "colab": {
          "base_uri": "https://localhost:8080/"
        },
        "id": "wxWUsVfEMhso",
        "outputId": "b3353dfd-b6ba-4588-faba-6c3cefbb7d16"
      },
      "execution_count": 6,
      "outputs": [
        {
          "output_type": "stream",
          "name": "stdout",
          "text": [
            "[2, 3]\n"
          ]
        }
      ]
    },
    {
      "cell_type": "markdown",
      "source": [
        "**Q7**"
      ],
      "metadata": {
        "id": "ZhVdn8zwM1UW"
      }
    },
    {
      "cell_type": "code",
      "source": [
        "def findMin(nums):\n",
        "    left = 0\n",
        "    right = len(nums) - 1\n",
        "\n",
        "    while left < right:\n",
        "        mid = (left + right) // 2\n",
        "\n",
        "        if nums[mid] > nums[right]:\n",
        "            left = mid + 1\n",
        "        else:\n",
        "            right = mid\n",
        "\n",
        "    return nums[left]\n",
        "nums = [3, 4, 5, 1, 2]\n",
        "result = findMin(nums)\n",
        "print(result)\n"
      ],
      "metadata": {
        "colab": {
          "base_uri": "https://localhost:8080/"
        },
        "id": "M7t5p-LQM3FB",
        "outputId": "c8d67376-e081-4f5c-84d2-0189adbf642c"
      },
      "execution_count": 7,
      "outputs": [
        {
          "output_type": "stream",
          "name": "stdout",
          "text": [
            "1\n"
          ]
        }
      ]
    },
    {
      "cell_type": "markdown",
      "source": [
        "**Q8**"
      ],
      "metadata": {
        "id": "NL-RL9EUNBi2"
      }
    },
    {
      "cell_type": "code",
      "source": [
        "from collections import defaultdict\n",
        "\n",
        "def findOriginalArray(changed):\n",
        "    count = defaultdict(int)\n",
        "\n",
        "    for num in changed:\n",
        "        count[num] += 1\n",
        "\n",
        "    original = []\n",
        "\n",
        "    for num in changed:\n",
        "        if count[num] == 0:\n",
        "\n",
        "            return []\n",
        "        count[num] -= 1\n",
        "\n",
        "        if count[num/2] == 0:\n",
        "\n",
        "            return []\n",
        "        count[num/2] -= 1\n",
        "\n",
        "        original.append(num/2)\n",
        "\n",
        "    result = []\n",
        "    for num, count in count.items():\n",
        "        result.extend([num] * count)\n",
        "\n",
        "    return result\n",
        "\n"
      ],
      "metadata": {
        "id": "YzoDzKKeNCws"
      },
      "execution_count": 11,
      "outputs": []
    }
  ]
}