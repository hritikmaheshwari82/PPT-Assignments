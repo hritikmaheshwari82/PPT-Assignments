{
  "nbformat": 4,
  "nbformat_minor": 0,
  "metadata": {
    "colab": {
      "provenance": []
    },
    "kernelspec": {
      "name": "python3",
      "display_name": "Python 3"
    },
    "language_info": {
      "name": "python"
    }
  },
  "cells": [
    {
      "cell_type": "markdown",
      "source": [
        "# **ASSIGNMENT 6**"
      ],
      "metadata": {
        "id": "fJ0rMz1L5tfw"
      }
    },
    {
      "cell_type": "markdown",
      "source": [
        "**Q1**"
      ],
      "metadata": {
        "id": "5fzO1H0L50w2"
      }
    },
    {
      "cell_type": "code",
      "source": [
        "def findPermutation(s):\n",
        "    n = len(s)\n",
        "    perm = []\n",
        "    start, end = 0, n\n",
        "\n",
        "    for ch in s:\n",
        "        if ch == 'I':\n",
        "            perm.append(start)\n",
        "            start += 1\n",
        "        elif ch == 'D':\n",
        "            perm.append(end)\n",
        "            end -= 1\n",
        "\n",
        "    perm.append(start)\n",
        "\n",
        "    return perm\n",
        "\n",
        "# Example usage\n",
        "s = \"IDID\"\n",
        "result = findPermutation(s)\n",
        "print(result)\n"
      ],
      "metadata": {
        "colab": {
          "base_uri": "https://localhost:8080/"
        },
        "id": "8-BB1WWG59BV",
        "outputId": "d1f38803-6d6d-4914-9153-baaab1f0c71a"
      },
      "execution_count": null,
      "outputs": [
        {
          "output_type": "stream",
          "name": "stdout",
          "text": [
            "[0, 4, 1, 3, 2]\n"
          ]
        }
      ]
    },
    {
      "cell_type": "markdown",
      "source": [
        "**Q2**"
      ],
      "metadata": {
        "id": "2xqfx8GOMxSt"
      }
    },
    {
      "cell_type": "code",
      "source": [
        "class Solution:\n",
        "    def searchMatrix(self, matrix, target):\n",
        "        if not matrix or not matrix[0]:\n",
        "            return False\n",
        "\n",
        "        rows, cols = len(matrix), len(matrix[0])\n",
        "        left, right = 0, rows * cols - 1\n",
        "\n",
        "        while left <= right:\n",
        "            mid = (left + right) // 2\n",
        "            mid_element = matrix[mid // cols][mid % cols]\n",
        "\n",
        "            if mid_element == target:\n",
        "                return True\n",
        "            elif mid_element < target:\n",
        "                left = mid + 1\n",
        "            else:\n",
        "                right = mid - 1\n",
        "\n",
        "        return False\n"
      ],
      "metadata": {
        "id": "zv0Mg6mgM0MG"
      },
      "execution_count": null,
      "outputs": []
    },
    {
      "cell_type": "markdown",
      "source": [
        "**Q3**"
      ],
      "metadata": {
        "id": "P3qbIJa1NBC4"
      }
    },
    {
      "cell_type": "code",
      "source": [
        "def validMountainArray(arr):\n",
        "    n = len(arr)\n",
        "\n",
        "    if n < 3:\n",
        "        return False\n",
        "\n",
        "    i = 0\n",
        "\n",
        "    # Ascending phase\n",
        "    while i < n - 1 and arr[i] < arr[i + 1]:\n",
        "        i += 1\n",
        "\n",
        "    # Peak cannot be the first or last element\n",
        "    if i == 0 or i == n - 1:\n",
        "        return False\n",
        "\n",
        "    # Descending phase\n",
        "    while i < n - 1 and arr[i] > arr[i + 1]:\n",
        "        i += 1\n",
        "\n",
        "    return i == n - 1\n",
        "\n"
      ],
      "metadata": {
        "id": "sTa-VtPJNDkC"
      },
      "execution_count": null,
      "outputs": []
    },
    {
      "cell_type": "markdown",
      "source": [
        "**Q4**"
      ],
      "metadata": {
        "id": "-YbZAb2hNZVk"
      }
    },
    {
      "cell_type": "code",
      "source": [
        "def findMaxLength(nums):\n",
        "    count = 0\n",
        "    max_length = 0\n",
        "    count_map = {0: -1}\n",
        "\n",
        "    for i in range(len(nums)):\n",
        "        if nums[i] == 0:\n",
        "            count -= 1\n",
        "        else:\n",
        "            count += 1\n",
        "\n",
        "        if count in count_map:\n",
        "            max_length = max(max_length, i - count_map[count])\n",
        "        else:\n",
        "            count_map[count] = i\n",
        "\n",
        "    return max_length\n",
        "nums = [0,1]\n",
        "result = findMaxLength(nums)1\n",
        "print(result)\n"
      ],
      "metadata": {
        "id": "Pun9Oal6Nboq",
        "colab": {
          "base_uri": "https://localhost:8080/"
        },
        "outputId": "95111267-01ac-4857-89a9-3ea1756e1dc0"
      },
      "execution_count": 2,
      "outputs": [
        {
          "output_type": "stream",
          "name": "stdout",
          "text": [
            "2\n"
          ]
        }
      ]
    },
    {
      "cell_type": "markdown",
      "source": [
        "**Q5**"
      ],
      "metadata": {
        "id": "uEc49rc1Nwpc"
      }
    },
    {
      "cell_type": "code",
      "source": [
        "def minProductSum(nums1, nums2):\n",
        "    nums1.sort()\n",
        "    nums2.sort(reverse=True)\n",
        "\n",
        "    product_sum = sum(nums1[i] * nums2[i] for i in range(len(nums1)))\n",
        "\n",
        "    return product_sum\n",
        "nums1 = [5, 3, 4, 2]\n",
        "nums2 = [4, 2, 2, 5]\n",
        "result = minProductSum(nums1, nums2)\n",
        "print(result)\n"
      ],
      "metadata": {
        "colab": {
          "base_uri": "https://localhost:8080/"
        },
        "id": "3U79NUIlqJ5g",
        "outputId": "02c12005-e3b3-40a4-e030-2507b2a3922c"
      },
      "execution_count": 1,
      "outputs": [
        {
          "output_type": "stream",
          "name": "stdout",
          "text": [
            "40\n"
          ]
        }
      ]
    },
    {
      "cell_type": "markdown",
      "source": [
        "**Q6**"
      ],
      "metadata": {
        "id": "F2J9PW4LDttq"
      }
    },
    {
      "cell_type": "code",
      "source": [
        "from collections import defaultdict\n",
        "\n",
        "def findOriginalArray(changed):\n",
        "    count = defaultdict(int)\n",
        "\n",
        "    # Step 1: Count the occurrences of each element in `changed`\n",
        "    for num in changed:\n",
        "        count[num] += 1\n",
        "\n",
        "    original = []\n",
        "\n",
        "    # Step 2 and 3: Reconstruct the original array\n",
        "    for num in changed:\n",
        "        if count[num] == 0:\n",
        "            # `changed` is not a doubled array\n",
        "            return []\n",
        "        count[num] -= 1\n",
        "\n",
        "        if count[2 * num] == 0:\n",
        "            # `changed` is not a doubled array\n",
        "            return []\n",
        "        count[2 * num] -= 1\n",
        "\n",
        "        original.append(num)\n",
        "\n",
        "    # Step 4 and 5: Construct the `original` array\n",
        "    result = []\n",
        "    for num, count in count.items():\n",
        "        result.extend([num] * count)\n",
        "\n",
        "    return result"
      ],
      "metadata": {
        "id": "Dn92ArK7Dvdu"
      },
      "execution_count": 10,
      "outputs": []
    },
    {
      "cell_type": "markdown",
      "source": [
        "**Q7**"
      ],
      "metadata": {
        "id": "C1Poe9G1Fq7-"
      }
    },
    {
      "cell_type": "code",
      "source": [
        "def generateMatrix(n):\n",
        "    matrix = [[0] * n for _ in range(n)]\n",
        "    row_start, row_end = 0, n - 1\n",
        "    col_start, col_end = 0, n - 1\n",
        "    num = 1\n",
        "\n",
        "    while row_start <= row_end and col_start <= col_end:\n",
        "        # Fill top row\n",
        "        for j in range(col_start, col_end + 1):\n",
        "            matrix[row_start][j] = num\n",
        "            num += 1\n",
        "        row_start += 1\n",
        "\n",
        "        # Fill rightmost column\n",
        "        for i in range(row_start, row_end + 1):\n",
        "            matrix[i][col_end] = num\n",
        "            num += 1\n",
        "        col_end -= 1\n",
        "\n",
        "        if row_start <= row_end:\n",
        "            # Fill bottom row\n",
        "            for j in range(col_end, col_start - 1, -1):\n",
        "                matrix[row_end][j] = num\n",
        "                num += 1\n",
        "            row_end -= 1\n",
        "\n",
        "        if col_start <= col_end:\n",
        "            # Fill leftmost column\n",
        "            for i in range(row_end, row_start - 1, -1):\n",
        "                matrix[i][col_start] = num\n",
        "                num += 1\n",
        "            col_start += 1\n",
        "\n",
        "    return matrix\n",
        "n = 3\n",
        "result = generateMatrix(n)\n",
        "print(result)\n"
      ],
      "metadata": {
        "colab": {
          "base_uri": "https://localhost:8080/"
        },
        "id": "xO57NK49FtIs",
        "outputId": "70254fb7-6b13-4b5d-bd22-90e5622617d7"
      },
      "execution_count": 11,
      "outputs": [
        {
          "output_type": "stream",
          "name": "stdout",
          "text": [
            "[[1, 2, 3], [8, 9, 4], [7, 6, 5]]\n"
          ]
        }
      ]
    },
    {
      "cell_type": "markdown",
      "source": [
        "**Q8**"
      ],
      "metadata": {
        "id": "3M4Mib77GLmI"
      }
    },
    {
      "cell_type": "code",
      "source": [
        "def multiply(mat1, mat2):\n",
        "    m, k = len(mat1), len(mat1[0])\n",
        "    n = len(mat2[0])\n",
        "    result = [[0] * n for _ in range(m)]\n",
        "    dict1 = {}\n",
        "    dict2 = {}\n",
        "\n",
        "    for i in range(m):\n",
        "        for j in range(k):\n",
        "            if mat1[i][j] != 0:\n",
        "                dict1[(i, j)] = mat1[i][j]\n",
        "\n",
        "    for i in range(k):\n",
        "        for j in range(n):\n",
        "            if mat2[i][j] != 0:\n",
        "                dict2[(i, j)] = mat2[i][j]\n",
        "\n",
        "    for (i, j), val1 in dict1.items():\n",
        "        for (_, k), val2 in dict2.items():\n",
        "            if j == _:\n",
        "                result[i][k] += val1 * val2\n",
        "\n",
        "    return result\n",
        "mat1 = [[1, 0, 0], [-1, 0, 3]]\n",
        "mat2 = [[7, 0, 0], [0, 0, 0], [0, 0, 1]]\n",
        "result = multiply(mat1, mat2)\n",
        "print(result)\n"
      ],
      "metadata": {
        "colab": {
          "base_uri": "https://localhost:8080/"
        },
        "id": "rUff7oF6GNKI",
        "outputId": "97cccc5a-d105-4394-9b00-2943545e27eb"
      },
      "execution_count": 12,
      "outputs": [
        {
          "output_type": "stream",
          "name": "stdout",
          "text": [
            "[[7, 0, 0], [-7, 0, 3]]\n"
          ]
        }
      ]
    }
  ]
}