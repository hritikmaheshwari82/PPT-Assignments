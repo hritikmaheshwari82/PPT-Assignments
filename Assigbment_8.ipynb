{
  "nbformat": 4,
  "nbformat_minor": 0,
  "metadata": {
    "colab": {
      "provenance": []
    },
    "kernelspec": {
      "name": "python3",
      "display_name": "Python 3"
    },
    "language_info": {
      "name": "python"
    }
  },
  "cells": [
    {
      "cell_type": "markdown",
      "source": [
        "# **ASSIGNMENT 8**"
      ],
      "metadata": {
        "id": "MepSeuNzMujq"
      }
    },
    {
      "cell_type": "markdown",
      "source": [
        "**Q1**"
      ],
      "metadata": {
        "id": "72HhMNShMywE"
      }
    },
    {
      "cell_type": "code",
      "source": [
        "class Solution:\n",
        "    def minimumDeleteSum(self, s1: str, s2: str) -> int:\n",
        "        m, n = len(s1), len(s2)\n",
        "\n",
        "        dp = [[0] * (n + 1) for _ in range(m + 1)]\n",
        "\n",
        "        for i in range(1, m + 1):\n",
        "            dp[i][0] = dp[i - 1][0] + ord(s1[i - 1])\n",
        "\n",
        "        for j in range(1, n + 1):\n",
        "            dp[0][j] = dp[0][j - 1] + ord(s2[j - 1])\n",
        "\n",
        "        for i in range(1, m + 1):\n",
        "            for j in range(1, n + 1):\n",
        "                if s1[i - 1] == s2[j - 1]:\n",
        "                    dp[i][j] = dp[i - 1][j - 1]\n",
        "                else:\n",
        "                    dp[i][j] = min(dp[i - 1][j] + ord(s1[i - 1]), dp[i][j - 1] + ord(s2[j - 1]))\n",
        "\n",
        "        return dp[m][n]\n"
      ],
      "metadata": {
        "id": "fgAj-Vm-M2fh"
      },
      "execution_count": 1,
      "outputs": []
    },
    {
      "cell_type": "markdown",
      "source": [
        "**Q2**"
      ],
      "metadata": {
        "id": "01s-56XuNQjI"
      }
    },
    {
      "cell_type": "code",
      "source": [
        "def isValid(s):\n",
        "    paren_stack = []\n",
        "\n",
        "    for ch in s:\n",
        "        if ch == '(' or ch == '*':\n",
        "            paren_stack.append(ch)\n",
        "        elif ch == ')':\n",
        "            if paren_stack:\n",
        "                paren_stack.pop()\n",
        "            elif '*' in paren_stack:\n",
        "                paren_stack.remove('*')\n",
        "            else:\n",
        "                return False\n",
        "\n",
        "    while paren_stack:\n",
        "        if paren_stack.pop() != '*':\n",
        "            return False\n",
        "\n",
        "    return True\n",
        "\n",
        "# Example usage\n",
        "s = \"()\"\n",
        "result = isValid(s)\n",
        "print(result)\n"
      ],
      "metadata": {
        "colab": {
          "base_uri": "https://localhost:8080/"
        },
        "id": "DU9wI-eiNUTP",
        "outputId": "2d24f1fb-d25d-4ae2-9bb7-1b11ef63b5ce"
      },
      "execution_count": 2,
      "outputs": [
        {
          "output_type": "stream",
          "name": "stdout",
          "text": [
            "True\n"
          ]
        }
      ]
    },
    {
      "cell_type": "markdown",
      "source": [
        "**Q3**"
      ],
      "metadata": {
        "id": "80eEoEfsONmx"
      }
    },
    {
      "cell_type": "code",
      "source": [
        "def minSteps(word1, word2):\n",
        "    m, n = len(word1), len(word2)\n",
        "    dp = [[0] * (n + 1) for _ in range(m + 1)]\n",
        "\n",
        "    for i in range(1, m + 1):\n",
        "        for j in range(1, n + 1):\n",
        "            if word1[i - 1] == word2[j - 1]:\n",
        "                dp[i][j] = dp[i - 1][j - 1] + 1\n",
        "            else:\n",
        "                dp[i][j] = max(dp[i - 1][j], dp[i][j - 1])\n",
        "\n",
        "    return m + n - 2 * dp[m][n]\n",
        "\n",
        "# Example usage\n",
        "word1 = \"sea\"\n",
        "word2 = \"eat\"\n",
        "result = minSteps(word1, word2)\n",
        "print(result)\n"
      ],
      "metadata": {
        "colab": {
          "base_uri": "https://localhost:8080/"
        },
        "id": "kZScfAW_OPZi",
        "outputId": "8d2210d9-f37f-40ea-e496-6aade5ea7d3c"
      },
      "execution_count": 3,
      "outputs": [
        {
          "output_type": "stream",
          "name": "stdout",
          "text": [
            "2\n"
          ]
        }
      ]
    },
    {
      "cell_type": "markdown",
      "source": [
        "**Q4**"
      ],
      "metadata": {
        "id": "MRvgRP-NOrQT"
      }
    },
    {
      "cell_type": "code",
      "source": [
        "class TreeNode:\n",
        "    def __init__(self, val=0, left=None, right=None):\n",
        "        self.val = val\n",
        "        self.left = left\n",
        "        self.right = right\n",
        "\n",
        "class Solution:\n",
        "    def str2tree(self, s: str) -> TreeNode:\n",
        "        def helper(s):\n",
        "            if not s:\n",
        "                return None\n",
        "\n",
        "            # Find the index of the first opening parenthesis\n",
        "            i = s.find('(')\n",
        "\n",
        "            if i == -1:\n",
        "\n",
        "                return TreeNode(int(s))\n",
        "\n",
        "            root = TreeNode(int(s[:i]))\n",
        "\n",
        "            j = self.find_matching_parenthesis(s[i:])\n",
        "            root.left = helper(s[i+1:i+j])\n",
        "\n",
        "            root.right = helper(s[i+j+2:-1])\n",
        "\n",
        "            return root\n",
        "\n",
        "        def find_matching_parenthesis(s):\n",
        "            count = 0\n",
        "            for i, c in enumerate(s):\n",
        "                if c == '(':\n",
        "                    count += 1\n",
        "                elif c == ')':\n",
        "                    count -= 1\n",
        "                    if count == 0:\n",
        "                        return i\n",
        "            return -1\n",
        "\n",
        "        return helper(s)\n"
      ],
      "metadata": {
        "id": "f9GszJ0IOsy-"
      },
      "execution_count": 1,
      "outputs": []
    },
    {
      "cell_type": "markdown",
      "source": [
        "**Q5**"
      ],
      "metadata": {
        "id": "P_bdW19tzIJX"
      }
    },
    {
      "cell_type": "code",
      "source": [
        "def compress(chars):\n",
        "    write = 0\n",
        "    count = 1\n",
        "\n",
        "    for i in range(1, len(chars)):\n",
        "        if chars[i] == chars[i - 1]:\n",
        "            count += 1\n",
        "        else:\n",
        "            chars[write] = chars[i - 1]\n",
        "            write += 1\n",
        "            if count > 1:\n",
        "                count_str = str(count)\n",
        "                for digit in count_str:\n",
        "                    chars[write] = digit\n",
        "                    write += 1\n",
        "            count = 1\n",
        "\n",
        "    chars[write] = chars[-1]\n",
        "    write += 1\n",
        "    if count > 1:\n",
        "        count_str = str(count)\n",
        "        for digit in count_str:\n",
        "            chars[write] = digit\n",
        "            write += 1\n",
        "\n",
        "    return write\n",
        "\n",
        "chars = [\"a\",\"a\",\"b\",\"b\",\"c\",\"c\",\"c\"]\n",
        "compressed_length = compress(chars)\n",
        "print(compressed_length)\n",
        "print(chars[:compressed_length])\n",
        "\n"
      ],
      "metadata": {
        "colab": {
          "base_uri": "https://localhost:8080/"
        },
        "id": "KdZszshPzMJ6",
        "outputId": "fa7303c5-b343-4987-eff9-71de202fd5a2"
      },
      "execution_count": 4,
      "outputs": [
        {
          "output_type": "stream",
          "name": "stdout",
          "text": [
            "6\n",
            "['a', '2', 'b', '2', 'c', '3']\n"
          ]
        }
      ]
    },
    {
      "cell_type": "markdown",
      "source": [
        "**Q6**"
      ],
      "metadata": {
        "id": "ZyslPbJmz8pd"
      }
    },
    {
      "cell_type": "code",
      "source": [
        "from collections import Counter\n",
        "\n",
        "def findAnagrams(s, p):\n",
        "    p_freq = Counter(p)\n",
        "    window_freq = Counter(s[:len(p)])\n",
        "    result = []\n",
        "\n",
        "    if window_freq == p_freq:\n",
        "        result.append(0)\n",
        "\n",
        "    for i in range(1, len(s) - len(p) + 1):\n",
        "        window_freq[s[i - 1]] -= 1\n",
        "        if window_freq[s[i - 1]] == 0:\n",
        "            del window_freq[s[i - 1]]\n",
        "\n",
        "        window_freq[s[i + len(p) - 1]] += 1\n",
        "\n",
        "        if window_freq == p_freq:\n",
        "            result.append(i)\n",
        "\n",
        "    return result\n",
        "s = \"cbaebabacd\"\n",
        "p = \"abc\"\n",
        "indices = findAnagrams(s, p)\n",
        "print(indices)  # Output: [0, 6]\n"
      ],
      "metadata": {
        "colab": {
          "base_uri": "https://localhost:8080/"
        },
        "id": "jt3dBKTL0AJh",
        "outputId": "e883ea23-5f9d-4016-cf33-492d95b48ab9"
      },
      "execution_count": 5,
      "outputs": [
        {
          "output_type": "stream",
          "name": "stdout",
          "text": [
            "[0, 6]\n"
          ]
        }
      ]
    },
    {
      "cell_type": "markdown",
      "source": [
        "**Q7**"
      ],
      "metadata": {
        "id": "Krh2TzLa0Z-x"
      }
    },
    {
      "cell_type": "code",
      "source": [
        "def decodeString(s):\n",
        "    stack = []\n",
        "    curr_str = \"\"\n",
        "    curr_num = 0\n",
        "\n",
        "    for char in s:\n",
        "        if char.isdigit():\n",
        "            curr_num = curr_num * 10 + int(char)\n",
        "        elif char == '[':\n",
        "            stack.append(curr_num)\n",
        "            stack.append(curr_str)\n",
        "            curr_num = 0\n",
        "            curr_str = \"\"\n",
        "        elif char == ']':\n",
        "            prev_str = stack.pop()\n",
        "            repetition = stack.pop()\n",
        "            curr_str = prev_str + curr_str * repetition\n",
        "        else:\n",
        "            curr_str += char\n",
        "\n",
        "    return curr_str\n",
        "s = \"3[a]2[bc]\"\n",
        "decoded_string = decodeString(s)\n",
        "print(decoded_string)\n"
      ],
      "metadata": {
        "colab": {
          "base_uri": "https://localhost:8080/"
        },
        "id": "KDZoJkmE0cVD",
        "outputId": "ccc3eaf9-351e-483f-b6f3-366b0669e63c"
      },
      "execution_count": 6,
      "outputs": [
        {
          "output_type": "stream",
          "name": "stdout",
          "text": [
            "aaabcbc\n"
          ]
        }
      ]
    },
    {
      "cell_type": "markdown",
      "source": [
        "**Q8**"
      ],
      "metadata": {
        "id": "ejkIq14g1M7K"
      }
    },
    {
      "cell_type": "code",
      "source": [
        "def buddyStrings(s, goal):\n",
        "    if len(s) != len(goal):\n",
        "        return False\n",
        "\n",
        "    if s == goal:\n",
        "        seen = set()\n",
        "        for char in s:\n",
        "            if char in seen:\n",
        "                return True\n",
        "            seen.add(char)\n",
        "        return False\n",
        "\n",
        "    pairs = []\n",
        "    for i in range(len(s)):\n",
        "        if s[i] != goal[i]:\n",
        "            pairs.append((s[i], goal[i]))\n",
        "\n",
        "    return len(pairs) == 2 and pairs[0] == pairs[1][::-1]\n",
        "s = \"ab\"\n",
        "goal = \"ba\"\n",
        "result = buddyStrings(s, goal)\n",
        "print(result)\n",
        "\n"
      ],
      "metadata": {
        "colab": {
          "base_uri": "https://localhost:8080/"
        },
        "id": "bkAkzvEF1Pzq",
        "outputId": "45389a47-4147-4412-cd43-94876cc49e67"
      },
      "execution_count": 7,
      "outputs": [
        {
          "output_type": "stream",
          "name": "stdout",
          "text": [
            "True\n"
          ]
        }
      ]
    }
  ]
}