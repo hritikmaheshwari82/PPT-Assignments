{
  "nbformat": 4,
  "nbformat_minor": 0,
  "metadata": {
    "colab": {
      "provenance": []
    },
    "kernelspec": {
      "name": "python3",
      "display_name": "Python 3"
    },
    "language_info": {
      "name": "python"
    }
  },
  "cells": [
    {
      "cell_type": "markdown",
      "source": [
        "# **ASSIGNMENT 2**"
      ],
      "metadata": {
        "id": "4glW8E7Q494x"
      }
    },
    {
      "cell_type": "markdown",
      "source": [
        "**Q1**"
      ],
      "metadata": {
        "id": "3E1jN09G5EPy"
      }
    },
    {
      "cell_type": "code",
      "source": [
        "class Solution:\n",
        "    def arrayPairSum(self, nums):\n",
        "        nums.sort()\n",
        "        max_sum = 0\n",
        "        for i in range(0, len(nums), 2):\n",
        "            max_sum += min(nums[i], nums[i+1])\n",
        "        return max_sum\n"
      ],
      "metadata": {
        "id": "LfMjfQu85G2c"
      },
      "execution_count": 1,
      "outputs": []
    },
    {
      "cell_type": "code",
      "source": [
        "nums = [1, 4, 3, 2]\n",
        "solution = Solution()\n",
        "max_sum = solution.arrayPairSum(nums)\n",
        "print(max_sum)\n"
      ],
      "metadata": {
        "colab": {
          "base_uri": "https://localhost:8080/"
        },
        "id": "9GWSFTFu5PQL",
        "outputId": "8d799fc1-a38f-4a29-f458-8adc8da3f3b4"
      },
      "execution_count": 2,
      "outputs": [
        {
          "output_type": "stream",
          "name": "stdout",
          "text": [
            "4\n"
          ]
        }
      ]
    },
    {
      "cell_type": "markdown",
      "source": [
        "**Q2**"
      ],
      "metadata": {
        "id": "rVbvs7uR5Uu9"
      }
    },
    {
      "cell_type": "code",
      "source": [
        "class Solution:\n",
        "    def distributeCandies(self, candyType):\n",
        "        max_types = len(set(candyType))\n",
        "        max_allowed = len(candyType) // 2\n",
        "\n",
        "        return min(max_types, max_allowed)\n"
      ],
      "metadata": {
        "id": "OzuMZWO05Wus"
      },
      "execution_count": 3,
      "outputs": []
    },
    {
      "cell_type": "code",
      "source": [
        "candyType = [1, 1, 2, 2, 3, 3]\n",
        "solution = Solution()\n",
        "max_different_types = solution.distributeCandies(candyType)\n",
        "print(max_different_types)"
      ],
      "metadata": {
        "colab": {
          "base_uri": "https://localhost:8080/"
        },
        "id": "u9HoiXNJ5qcn",
        "outputId": "cc6a89b0-ad09-4b18-8945-1ba54024a5e0"
      },
      "execution_count": 4,
      "outputs": [
        {
          "output_type": "stream",
          "name": "stdout",
          "text": [
            "3\n"
          ]
        }
      ]
    },
    {
      "cell_type": "markdown",
      "source": [
        "**Q3**"
      ],
      "metadata": {
        "id": "0Co-AO1U5vn_"
      }
    },
    {
      "cell_type": "code",
      "source": [
        "from collections import Counter\n",
        "\n",
        "class Solution:\n",
        "    def findLHS(self, nums):\n",
        "        num_counts = Counter(nums)  # Count the frequency of each number\n",
        "\n",
        "        max_length = 0\n",
        "\n",
        "        for num in num_counts:\n",
        "            if num + 1 in num_counts:\n",
        "                length = num_counts[num] + num_counts[num + 1]\n",
        "                max_length = max(max_length, length)\n",
        "\n",
        "        return max_length\n"
      ],
      "metadata": {
        "id": "e5dacp9U5yAQ"
      },
      "execution_count": 5,
      "outputs": []
    },
    {
      "cell_type": "markdown",
      "source": [
        "**Q4**"
      ],
      "metadata": {
        "id": "5T3Bqd9I6Gs9"
      }
    },
    {
      "cell_type": "code",
      "source": [
        "class Solution:\n",
        "    def canPlaceFlowers(self, flowerbed, n):\n",
        "        i = 0\n",
        "        count = 0\n",
        "        while i < len(flowerbed):\n",
        "            if flowerbed[i] == 0 and (i == 0 or flowerbed[i-1] == 0) and (i == len(flowerbed)-1 or flowerbed[i+1] == 0):\n",
        "                flowerbed[i] = 1\n",
        "                count += 1\n",
        "                if count >= n:\n",
        "                    return True\n",
        "            i += 1\n",
        "        return False"
      ],
      "metadata": {
        "id": "IeTtruz76JSz"
      },
      "execution_count": 6,
      "outputs": []
    },
    {
      "cell_type": "markdown",
      "source": [
        "**Q5**"
      ],
      "metadata": {
        "id": "rGtMAHrx6Sz5"
      }
    },
    {
      "cell_type": "code",
      "source": [
        "class Solution:\n",
        "    def maximumProduct(self, nums):\n",
        "        nums.sort()\n",
        "\n",
        "        max_product = nums[-1] * nums[-2] * nums[-3]\n",
        "\n",
        "        if nums[0] < 0 and nums[1] < 0:\n",
        "            max_product = max(max_product, nums[0] * nums[1] * nums[-1])\n",
        "\n",
        "        return max_product\n"
      ],
      "metadata": {
        "id": "JNczmlkY6WWl"
      },
      "execution_count": 7,
      "outputs": []
    },
    {
      "cell_type": "markdown",
      "source": [
        "**Q6**"
      ],
      "metadata": {
        "id": "7Wn4S-UF6jt8"
      }
    },
    {
      "cell_type": "code",
      "source": [
        "class Solution:\n",
        "    def search(self, nums, target):\n",
        "        left = 0\n",
        "        right = len(nums) - 1\n",
        "\n",
        "        while left <= right:\n",
        "            mid = left + (right - left) // 2\n",
        "\n",
        "            if nums[mid] == target:\n",
        "                return mid\n",
        "            elif nums[mid] < target:\n",
        "                left = mid + 1\n",
        "            else:\n",
        "                right = mid - 1\n",
        "\n",
        "        return -1\n"
      ],
      "metadata": {
        "id": "evKzFuDp6lxE"
      },
      "execution_count": null,
      "outputs": []
    },
    {
      "cell_type": "markdown",
      "source": [
        "**Q7**"
      ],
      "metadata": {
        "id": "aHzOsiyF6x7L"
      }
    },
    {
      "cell_type": "code",
      "source": [
        "class Solution:\n",
        "    def isMonotonic(self, nums):\n",
        "        is_increasing = True\n",
        "        is_decreasing = True\n",
        "\n",
        "        for i in range(1, len(nums)):\n",
        "            if nums[i] > nums[i-1]:\n",
        "                is_decreasing = False\n",
        "            elif nums[i] < nums[i-1]:\n",
        "                is_increasing = False\n",
        "\n",
        "        return is_increasing or is_decreasing\n"
      ],
      "metadata": {
        "id": "8RCWn1mC6z8R"
      },
      "execution_count": 8,
      "outputs": []
    },
    {
      "cell_type": "markdown",
      "source": [
        "**Q8**"
      ],
      "metadata": {
        "id": "sltFqsI16_aq"
      }
    },
    {
      "cell_type": "code",
      "source": [
        "class Solution:\n",
        "    def minimumScore(self, nums, k):\n",
        "        minimum = float('inf')\n",
        "        maximum = float('-inf')\n",
        "\n",
        "        for num in nums:\n",
        "            minimum = min(minimum, num)\n",
        "            maximum = max(maximum, num)\n",
        "\n",
        "        if maximum - k > minimum + k:\n",
        "            return maximum - k\n",
        "        else:\n",
        "            return minimum + k\n"
      ],
      "metadata": {
        "id": "cVTqY0Fk7KvF"
      },
      "execution_count": 9,
      "outputs": []
    }
  ]
}