{
  "nbformat": 4,
  "nbformat_minor": 0,
  "metadata": {
    "colab": {
      "provenance": []
    },
    "kernelspec": {
      "name": "python3",
      "display_name": "Python 3"
    },
    "language_info": {
      "name": "python"
    }
  },
  "cells": [
    {
      "cell_type": "markdown",
      "source": [
        "# **ASSIGNMENT 4**"
      ],
      "metadata": {
        "id": "yGHlEViHT3C_"
      }
    },
    {
      "cell_type": "markdown",
      "source": [
        "**Q1**"
      ],
      "metadata": {
        "id": "lTncvprBUHQp"
      }
    },
    {
      "cell_type": "code",
      "execution_count": 1,
      "metadata": {
        "id": "z-cjw6JaeLJH"
      },
      "outputs": [],
      "source": [
        "class Solution:\n",
        "    def commonElements(self, arr1, arr2, arr3):\n",
        "        p1, p2, p3 = 0, 0, 0\n",
        "        result = []\n",
        "\n",
        "        while p1 < len(arr1) and p2 < len(arr2) and p3 < len(arr3):\n",
        "            if arr1[p1] == arr2[p2] == arr3[p3]:\n",
        "                result.append(arr1[p1])\n",
        "                p1 += 1\n",
        "                p2 += 1\n",
        "                p3 += 1\n",
        "            elif arr1[p1] < arr2[p2]:\n",
        "                p1 += 1\n",
        "            elif arr2[p2] < arr3[p3]:\n",
        "                p2 += 1\n",
        "            else:\n",
        "                p3 += 1\n",
        "\n",
        "        return result\n"
      ]
    },
    {
      "cell_type": "markdown",
      "source": [
        "**Q2**"
      ],
      "metadata": {
        "id": "L_RJ_I9OlZIS"
      }
    },
    {
      "cell_type": "code",
      "source": [
        "def findDisjoint(nums1, nums2):\n",
        "    set1 = set(nums1)\n",
        "    set2 = set(nums2)\n",
        "\n",
        "    distinct_nums1 = [num for num in nums1 if num not in set2]\n",
        "    distinct_nums2 = [num for num in nums2 if num not in set1]\n",
        "\n",
        "    return [distinct_nums1, distinct_nums2]\n",
        "nums1 = [1, 2, 3]\n",
        "nums2 = [2, 4, 6]\n",
        "result = findDisjoint(nums1, nums2)\n",
        "print(result)\n"
      ],
      "metadata": {
        "colab": {
          "base_uri": "https://localhost:8080/"
        },
        "id": "x950SUDDlbAY",
        "outputId": "5bb2ae15-74b9-4eec-9a24-2b3750173fc8"
      },
      "execution_count": 2,
      "outputs": [
        {
          "output_type": "stream",
          "name": "stdout",
          "text": [
            "[[1, 3], [4, 6]]\n"
          ]
        }
      ]
    },
    {
      "cell_type": "markdown",
      "source": [
        "**Q3**"
      ],
      "metadata": {
        "id": "JFsH-zDcmMz5"
      }
    },
    {
      "cell_type": "code",
      "source": [
        "def transpose(matrix):\n",
        "    rows = len(matrix)\n",
        "    cols = len(matrix[0])\n",
        "\n",
        "    transposed = [[0 for _ in range(rows)] for _ in range(cols)]\n",
        "\n",
        "    for i in range(rows):\n",
        "        for j in range(cols):\n",
        "            transposed[j][i] = matrix[i][j]\n",
        "\n",
        "    return transposed\n",
        "matrix = [[1, 2, 3], [4, 5, 6], [7, 8, 9]]\n",
        "transposed_matrix = transpose(matrix)\n",
        "print(transposed_matrix)\n"
      ],
      "metadata": {
        "colab": {
          "base_uri": "https://localhost:8080/"
        },
        "id": "xae626OkmOzM",
        "outputId": "7a089a1e-6d0e-4599-c5e8-106f33821984"
      },
      "execution_count": 3,
      "outputs": [
        {
          "output_type": "stream",
          "name": "stdout",
          "text": [
            "[[1, 4, 7], [2, 5, 8], [3, 6, 9]]\n"
          ]
        }
      ]
    },
    {
      "cell_type": "markdown",
      "source": [
        "**Q4**"
      ],
      "metadata": {
        "id": "_heNWlEgm4ur"
      }
    },
    {
      "cell_type": "code",
      "source": [
        "def arrayPairSum(nums):\n",
        "    nums.sort()\n",
        "    n = len(nums)\n",
        "    max_sum = 0\n",
        "\n",
        "    # Pair consecutive elements and sum the minimum values\n",
        "    for i in range(0, n, 2):\n",
        "        max_sum += nums[i]\n",
        "\n",
        "    return max_sum\n",
        "nums = [1, 4, 3, 2]\n",
        "max_sum = arrayPairSum(nums)\n",
        "print(max_sum)\n"
      ],
      "metadata": {
        "colab": {
          "base_uri": "https://localhost:8080/"
        },
        "id": "VcXOHHtmm6mR",
        "outputId": "e9d902bc-6135-4ac3-891f-b5659a8f9839"
      },
      "execution_count": 4,
      "outputs": [
        {
          "output_type": "stream",
          "name": "stdout",
          "text": [
            "4\n"
          ]
        }
      ]
    },
    {
      "cell_type": "markdown",
      "source": [
        "**Q5**"
      ],
      "metadata": {
        "id": "XTbeJvX5nFp-"
      }
    },
    {
      "cell_type": "code",
      "source": [
        "def arrangeCoins(n):\n",
        "    k = int((2 * n) ** 0.5) - 1\n",
        "    while (k * (k + 1)) // 2 <= n:\n",
        "        k += 1\n",
        "    return k - 1\n",
        "n = 5\n",
        "complete_rows = arrangeCoins(n)\n",
        "print(complete_rows)\n"
      ],
      "metadata": {
        "colab": {
          "base_uri": "https://localhost:8080/"
        },
        "id": "7QHhjfd4nHq-",
        "outputId": "6864bfbf-51c9-4e8d-9135-3c66d9b4c397"
      },
      "execution_count": 5,
      "outputs": [
        {
          "output_type": "stream",
          "name": "stdout",
          "text": [
            "2\n"
          ]
        }
      ]
    },
    {
      "cell_type": "markdown",
      "source": [
        "**Q6**"
      ],
      "metadata": {
        "id": "IdMxFY3KnoYL"
      }
    },
    {
      "cell_type": "code",
      "source": [
        "class Solution:\n",
        "    def sortedSquares(self, nums):\n",
        "        squared_nums = [num ** 2 for num in nums]\n",
        "        squared_nums.sort()\n",
        "        return squared_nums\n",
        "nums = [-4, -1, 0, 3, 10]\n",
        "solution = Solution()\n",
        "result = solution.sortedSquares(nums)\n",
        "print(result)\n"
      ],
      "metadata": {
        "colab": {
          "base_uri": "https://localhost:8080/"
        },
        "id": "NX4KlmcdnqRc",
        "outputId": "1a36401c-3956-4d70-f06b-6c8f50d30da3"
      },
      "execution_count": 6,
      "outputs": [
        {
          "output_type": "stream",
          "name": "stdout",
          "text": [
            "[0, 1, 9, 16, 100]\n"
          ]
        }
      ]
    },
    {
      "cell_type": "markdown",
      "source": [
        "**Q7**"
      ],
      "metadata": {
        "id": "g1jpLN95ohuO"
      }
    },
    {
      "cell_type": "code",
      "source": [
        "def maxCount(m, n, ops):\n",
        "    if not ops:\n",
        "        return m * n\n",
        "    min_a = min(op[0] for op in ops)\n",
        "    min_b = min(op[1] for op in ops)\n",
        "    return min_a * min_b\n",
        "m = 3\n",
        "n = 3\n",
        "ops = [[2, 2], [3, 3]]\n",
        "result = maxCount(m, n, ops)\n",
        "print(result)\n"
      ],
      "metadata": {
        "colab": {
          "base_uri": "https://localhost:8080/"
        },
        "id": "41zKaoqpokPj",
        "outputId": "a4db1083-5988-48f9-c44a-2d5404bad751"
      },
      "execution_count": 7,
      "outputs": [
        {
          "output_type": "stream",
          "name": "stdout",
          "text": [
            "4\n"
          ]
        }
      ]
    },
    {
      "cell_type": "markdown",
      "source": [
        "**Q8**"
      ],
      "metadata": {
        "id": "S06qiWQFpBUI"
      }
    },
    {
      "cell_type": "code",
      "source": [
        "def shuffle(nums, n):\n",
        "    result = []\n",
        "    for i in range(n):\n",
        "        result.append(nums[i])\n",
        "        result.append(nums[i+n])\n",
        "    return result\n",
        "nums = [2, 5, 1, 3, 4, 7]\n",
        "n = 3\n",
        "result = shuffle(nums, n)\n",
        "print(result)\n"
      ],
      "metadata": {
        "colab": {
          "base_uri": "https://localhost:8080/"
        },
        "id": "kyMDeq4GpCo9",
        "outputId": "604a5503-eab2-414a-8679-cd05a0684869"
      },
      "execution_count": 8,
      "outputs": [
        {
          "output_type": "stream",
          "name": "stdout",
          "text": [
            "[2, 3, 5, 4, 1, 7]\n"
          ]
        }
      ]
    },
    {
      "cell_type": "markdown",
      "source": [],
      "metadata": {
        "id": "j_3NnJ1ZUQjE"
      }
    }
  ]
}